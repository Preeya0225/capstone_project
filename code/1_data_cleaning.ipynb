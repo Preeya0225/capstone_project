{
 "cells": [
  {
   "cell_type": "markdown",
   "metadata": {},
   "source": [
    "# Title "
   ]
  },
  {
   "cell_type": "markdown",
   "metadata": {},
   "source": [
    "## Data Cleaning  \n",
    "---\n",
    "\n",
    "In this notebook"
   ]
  },
  {
   "cell_type": "markdown",
   "metadata": {
    "toc-hr-collapsed": true,
    "toc-nb-collapsed": true
   },
   "source": [
    "### Table of content\n",
    "---"
   ]
  },
  {
   "cell_type": "markdown",
   "metadata": {},
   "source": [
    "### Import packages "
   ]
  },
  {
   "cell_type": "code",
   "execution_count": 2,
   "metadata": {},
   "outputs": [],
   "source": [
    "#Import miscellaneous\n",
    "import warnings\n",
    "warnings.simplefilter(action='ignore', category=FutureWarning)\n",
    "\n",
    "#Import processing tools\n",
    "import pandas as pd "
   ]
  },
  {
   "cell_type": "markdown",
   "metadata": {},
   "source": [
    "### First look"
   ]
  },
  {
   "cell_type": "code",
   "execution_count": 3,
   "metadata": {},
   "outputs": [
    {
     "data": {
      "text/html": [
       "<div>\n",
       "<style scoped>\n",
       "    .dataframe tbody tr th:only-of-type {\n",
       "        vertical-align: middle;\n",
       "    }\n",
       "\n",
       "    .dataframe tbody tr th {\n",
       "        vertical-align: top;\n",
       "    }\n",
       "\n",
       "    .dataframe thead th {\n",
       "        text-align: right;\n",
       "    }\n",
       "</style>\n",
       "<table border=\"1\" class=\"dataframe\">\n",
       "  <thead>\n",
       "    <tr style=\"text-align: right;\">\n",
       "      <th></th>\n",
       "      <th>HealthTopic</th>\n",
       "      <th>Population</th>\n",
       "      <th>Indicator</th>\n",
       "      <th>Unit</th>\n",
       "      <th>Time</th>\n",
       "      <th>RegionCode</th>\n",
       "      <th>RegionName</th>\n",
       "      <th>NumValue</th>\n",
       "      <th>TxtValue</th>\n",
       "    </tr>\n",
       "  </thead>\n",
       "  <tbody>\n",
       "    <tr>\n",
       "      <th>0</th>\n",
       "      <td>Measles</td>\n",
       "      <td>All cases</td>\n",
       "      <td>Notification rate</td>\n",
       "      <td>N/1000000</td>\n",
       "      <td>1999-01</td>\n",
       "      <td>AT</td>\n",
       "      <td>Austria</td>\n",
       "      <td>0.250549290</td>\n",
       "      <td>NaN</td>\n",
       "    </tr>\n",
       "    <tr>\n",
       "      <th>1</th>\n",
       "      <td>Measles</td>\n",
       "      <td>All cases</td>\n",
       "      <td>Notification rate</td>\n",
       "      <td>N/1000000</td>\n",
       "      <td>1999-01</td>\n",
       "      <td>AT</td>\n",
       "      <td>Austria</td>\n",
       "      <td>0.250549290</td>\n",
       "      <td>NaN</td>\n",
       "    </tr>\n",
       "    <tr>\n",
       "      <th>2</th>\n",
       "      <td>Measles</td>\n",
       "      <td>All cases</td>\n",
       "      <td>Notification rate</td>\n",
       "      <td>N/1000000</td>\n",
       "      <td>1999-01</td>\n",
       "      <td>DK</td>\n",
       "      <td>Denmark</td>\n",
       "      <td>0.188197140</td>\n",
       "      <td>NaN</td>\n",
       "    </tr>\n",
       "    <tr>\n",
       "      <th>3</th>\n",
       "      <td>Measles</td>\n",
       "      <td>All cases</td>\n",
       "      <td>Notification rate</td>\n",
       "      <td>N/1000000</td>\n",
       "      <td>1999-01</td>\n",
       "      <td>DK</td>\n",
       "      <td>Denmark</td>\n",
       "      <td>0.188197140</td>\n",
       "      <td>NaN</td>\n",
       "    </tr>\n",
       "    <tr>\n",
       "      <th>4</th>\n",
       "      <td>Measles</td>\n",
       "      <td>All cases</td>\n",
       "      <td>Notification rate</td>\n",
       "      <td>N/1000000</td>\n",
       "      <td>1999-01</td>\n",
       "      <td>EL</td>\n",
       "      <td>Greece</td>\n",
       "      <td>1.581723750</td>\n",
       "      <td>NaN</td>\n",
       "    </tr>\n",
       "  </tbody>\n",
       "</table>\n",
       "</div>"
      ],
      "text/plain": [
       "  HealthTopic Population           Indicator       Unit     Time RegionCode  \\\n",
       "0     Measles  All cases  Notification rate   N/1000000  1999-01         AT   \n",
       "1     Measles  All cases  Notification rate   N/1000000  1999-01         AT   \n",
       "2     Measles  All cases  Notification rate   N/1000000  1999-01         DK   \n",
       "3     Measles  All cases  Notification rate   N/1000000  1999-01         DK   \n",
       "4     Measles  All cases  Notification rate   N/1000000  1999-01         EL   \n",
       "\n",
       "  RegionName     NumValue  TxtValue  \n",
       "0    Austria  0.250549290       NaN  \n",
       "1    Austria  0.250549290       NaN  \n",
       "2    Denmark  0.188197140       NaN  \n",
       "3    Denmark  0.188197140       NaN  \n",
       "4     Greece  1.581723750       NaN  "
      ]
     },
     "execution_count": 3,
     "metadata": {},
     "output_type": "execute_result"
    }
   ],
   "source": [
    "#Reading measles report data set \n",
    "outbreak = pd.read_csv('../data/ECDC_surveillance_data_Measles_reports.csv')\n",
    "outbreak.head()"
   ]
  },
  {
   "cell_type": "code",
   "execution_count": 4,
   "metadata": {},
   "outputs": [
    {
     "data": {
      "text/html": [
       "<div>\n",
       "<style scoped>\n",
       "    .dataframe tbody tr th:only-of-type {\n",
       "        vertical-align: middle;\n",
       "    }\n",
       "\n",
       "    .dataframe tbody tr th {\n",
       "        vertical-align: top;\n",
       "    }\n",
       "\n",
       "    .dataframe thead th {\n",
       "        text-align: right;\n",
       "    }\n",
       "</style>\n",
       "<table border=\"1\" class=\"dataframe\">\n",
       "  <thead>\n",
       "    <tr style=\"text-align: right;\">\n",
       "      <th></th>\n",
       "      <th>HealthTopic</th>\n",
       "      <th>Population</th>\n",
       "      <th>Indicator</th>\n",
       "      <th>Unit</th>\n",
       "      <th>Time</th>\n",
       "      <th>RegionCode</th>\n",
       "      <th>RegionName</th>\n",
       "      <th>NumValue</th>\n",
       "      <th>TxtValue</th>\n",
       "    </tr>\n",
       "  </thead>\n",
       "  <tbody>\n",
       "    <tr>\n",
       "      <th>0</th>\n",
       "      <td>Measles</td>\n",
       "      <td>Vaccination coverage</td>\n",
       "      <td>Vaccination coverage first dose</td>\n",
       "      <td>%</td>\n",
       "      <td>1999</td>\n",
       "      <td>AT</td>\n",
       "      <td>Austria</td>\n",
       "      <td>65.0</td>\n",
       "      <td>NaN</td>\n",
       "    </tr>\n",
       "    <tr>\n",
       "      <th>1</th>\n",
       "      <td>Measles</td>\n",
       "      <td>Vaccination coverage</td>\n",
       "      <td>Vaccination coverage first dose</td>\n",
       "      <td>%</td>\n",
       "      <td>1999</td>\n",
       "      <td>AT</td>\n",
       "      <td>Austria</td>\n",
       "      <td>65.0</td>\n",
       "      <td>NaN</td>\n",
       "    </tr>\n",
       "    <tr>\n",
       "      <th>2</th>\n",
       "      <td>Measles</td>\n",
       "      <td>Vaccination coverage</td>\n",
       "      <td>Vaccination coverage first dose</td>\n",
       "      <td>%</td>\n",
       "      <td>1999</td>\n",
       "      <td>BE</td>\n",
       "      <td>Belgium</td>\n",
       "      <td>82.0</td>\n",
       "      <td>NaN</td>\n",
       "    </tr>\n",
       "    <tr>\n",
       "      <th>3</th>\n",
       "      <td>Measles</td>\n",
       "      <td>Vaccination coverage</td>\n",
       "      <td>Vaccination coverage first dose</td>\n",
       "      <td>%</td>\n",
       "      <td>1999</td>\n",
       "      <td>BE</td>\n",
       "      <td>Belgium</td>\n",
       "      <td>82.0</td>\n",
       "      <td>NaN</td>\n",
       "    </tr>\n",
       "    <tr>\n",
       "      <th>4</th>\n",
       "      <td>Measles</td>\n",
       "      <td>Vaccination coverage</td>\n",
       "      <td>Vaccination coverage first dose</td>\n",
       "      <td>%</td>\n",
       "      <td>1999</td>\n",
       "      <td>BG</td>\n",
       "      <td>Bulgaria</td>\n",
       "      <td>96.0</td>\n",
       "      <td>NaN</td>\n",
       "    </tr>\n",
       "  </tbody>\n",
       "</table>\n",
       "</div>"
      ],
      "text/plain": [
       "  HealthTopic            Population                        Indicator Unit  \\\n",
       "0     Measles  Vaccination coverage  Vaccination coverage first dose    %   \n",
       "1     Measles  Vaccination coverage  Vaccination coverage first dose    %   \n",
       "2     Measles  Vaccination coverage  Vaccination coverage first dose    %   \n",
       "3     Measles  Vaccination coverage  Vaccination coverage first dose    %   \n",
       "4     Measles  Vaccination coverage  Vaccination coverage first dose    %   \n",
       "\n",
       "   Time RegionCode RegionName  NumValue  TxtValue  \n",
       "0  1999         AT    Austria      65.0       NaN  \n",
       "1  1999         AT    Austria      65.0       NaN  \n",
       "2  1999         BE    Belgium      82.0       NaN  \n",
       "3  1999         BE    Belgium      82.0       NaN  \n",
       "4  1999         BG   Bulgaria      96.0       NaN  "
      ]
     },
     "execution_count": 4,
     "metadata": {},
     "output_type": "execute_result"
    }
   ],
   "source": [
    "#Reading vaccination report data set\n",
    "vaccine = pd.read_csv('../data/ECDC_surveillance_data_Measles.csv')\n",
    "vaccine.head()"
   ]
  },
  {
   "cell_type": "markdown",
   "metadata": {},
   "source": [
    "Checking the size of each data frame"
   ]
  },
  {
   "cell_type": "code",
   "execution_count": 5,
   "metadata": {},
   "outputs": [
    {
     "name": "stdout",
     "output_type": "stream",
     "text": [
      "There are 51416 rows and 9 columns in outbreak data set\n",
      "There are 2222 rows and 9 columns in vaccine data set\n"
     ]
    }
   ],
   "source": [
    "print(f\"There are {outbreak.shape[0]} rows and {outbreak.shape[1]} columns in outbreak data set\")\n",
    "print(f\"There are {vaccine.shape[0]} rows and {outbreak.shape[1]} columns in vaccine data set\")"
   ]
  },
  {
   "cell_type": "markdown",
   "metadata": {},
   "source": [
    "Checking the time column for each data set "
   ]
  },
  {
   "cell_type": "code",
   "execution_count": 6,
   "metadata": {},
   "outputs": [
    {
     "data": {
      "text/plain": [
       "0    1999-01\n",
       "1    1999-01\n",
       "2    1999-01\n",
       "3    1999-01\n",
       "4    1999-01\n",
       "Name: Time, dtype: object"
      ]
     },
     "execution_count": 6,
     "metadata": {},
     "output_type": "execute_result"
    }
   ],
   "source": [
    "outbreak['Time'].head()"
   ]
  },
  {
   "cell_type": "code",
   "execution_count": 7,
   "metadata": {},
   "outputs": [
    {
     "data": {
      "text/plain": [
       "0    1999\n",
       "1    1999\n",
       "2    1999\n",
       "3    1999\n",
       "4    1999\n",
       "Name: Time, dtype: int64"
      ]
     },
     "execution_count": 7,
     "metadata": {},
     "output_type": "execute_result"
    }
   ],
   "source": [
    "vaccine['Time'].head()"
   ]
  },
  {
   "cell_type": "markdown",
   "metadata": {},
   "source": [
    "**Observation**: In both data sets the `time` column need to be converted into a date time object in the same format. This way we can combine both data frames into one and accelerate the cleaning process."
   ]
  },
  {
   "cell_type": "markdown",
   "metadata": {},
   "source": [
    "Converting `time` column into a date time object"
   ]
  },
  {
   "cell_type": "code",
   "execution_count": 8,
   "metadata": {},
   "outputs": [],
   "source": [
    "outbreak['Time'] = pd.to_datetime(outbreak['Time'])\n",
    "vaccine['Time'] = pd.to_datetime(vaccine['Time'], format = '%Y')"
   ]
  },
  {
   "cell_type": "code",
   "execution_count": 9,
   "metadata": {},
   "outputs": [
    {
     "data": {
      "text/plain": [
       "0   1999-01-01\n",
       "1   1999-01-01\n",
       "2   1999-01-01\n",
       "3   1999-01-01\n",
       "4   1999-01-01\n",
       "Name: Time, dtype: datetime64[ns]"
      ]
     },
     "execution_count": 9,
     "metadata": {},
     "output_type": "execute_result"
    }
   ],
   "source": [
    "#Check work\n",
    "outbreak['Time'].head()"
   ]
  },
  {
   "cell_type": "code",
   "execution_count": 10,
   "metadata": {},
   "outputs": [
    {
     "data": {
      "text/plain": [
       "0   1999-01-01\n",
       "1   1999-01-01\n",
       "2   1999-01-01\n",
       "3   1999-01-01\n",
       "4   1999-01-01\n",
       "Name: Time, dtype: datetime64[ns]"
      ]
     },
     "execution_count": 10,
     "metadata": {},
     "output_type": "execute_result"
    }
   ],
   "source": [
    "#Check work\n",
    "vaccine['Time'].head()"
   ]
  },
  {
   "cell_type": "code",
   "execution_count": 11,
   "metadata": {},
   "outputs": [],
   "source": [
    "#Combining both data frames\n",
    "measles = pd.concat([outbreak,vaccine])"
   ]
  },
  {
   "cell_type": "code",
   "execution_count": 12,
   "metadata": {},
   "outputs": [
    {
     "data": {
      "text/html": [
       "<div>\n",
       "<style scoped>\n",
       "    .dataframe tbody tr th:only-of-type {\n",
       "        vertical-align: middle;\n",
       "    }\n",
       "\n",
       "    .dataframe tbody tr th {\n",
       "        vertical-align: top;\n",
       "    }\n",
       "\n",
       "    .dataframe thead th {\n",
       "        text-align: right;\n",
       "    }\n",
       "</style>\n",
       "<table border=\"1\" class=\"dataframe\">\n",
       "  <thead>\n",
       "    <tr style=\"text-align: right;\">\n",
       "      <th></th>\n",
       "      <th>HealthTopic</th>\n",
       "      <th>Population</th>\n",
       "      <th>Indicator</th>\n",
       "      <th>Unit</th>\n",
       "      <th>Time</th>\n",
       "      <th>RegionCode</th>\n",
       "      <th>RegionName</th>\n",
       "      <th>NumValue</th>\n",
       "      <th>TxtValue</th>\n",
       "    </tr>\n",
       "  </thead>\n",
       "  <tbody>\n",
       "    <tr>\n",
       "      <th>0</th>\n",
       "      <td>Measles</td>\n",
       "      <td>All cases</td>\n",
       "      <td>Notification rate</td>\n",
       "      <td>N/1000000</td>\n",
       "      <td>1999-01-01</td>\n",
       "      <td>AT</td>\n",
       "      <td>Austria</td>\n",
       "      <td>0.250549290</td>\n",
       "      <td>NaN</td>\n",
       "    </tr>\n",
       "    <tr>\n",
       "      <th>1</th>\n",
       "      <td>Measles</td>\n",
       "      <td>All cases</td>\n",
       "      <td>Notification rate</td>\n",
       "      <td>N/1000000</td>\n",
       "      <td>1999-01-01</td>\n",
       "      <td>AT</td>\n",
       "      <td>Austria</td>\n",
       "      <td>0.250549290</td>\n",
       "      <td>NaN</td>\n",
       "    </tr>\n",
       "    <tr>\n",
       "      <th>2</th>\n",
       "      <td>Measles</td>\n",
       "      <td>All cases</td>\n",
       "      <td>Notification rate</td>\n",
       "      <td>N/1000000</td>\n",
       "      <td>1999-01-01</td>\n",
       "      <td>DK</td>\n",
       "      <td>Denmark</td>\n",
       "      <td>0.188197140</td>\n",
       "      <td>NaN</td>\n",
       "    </tr>\n",
       "    <tr>\n",
       "      <th>3</th>\n",
       "      <td>Measles</td>\n",
       "      <td>All cases</td>\n",
       "      <td>Notification rate</td>\n",
       "      <td>N/1000000</td>\n",
       "      <td>1999-01-01</td>\n",
       "      <td>DK</td>\n",
       "      <td>Denmark</td>\n",
       "      <td>0.188197140</td>\n",
       "      <td>NaN</td>\n",
       "    </tr>\n",
       "    <tr>\n",
       "      <th>4</th>\n",
       "      <td>Measles</td>\n",
       "      <td>All cases</td>\n",
       "      <td>Notification rate</td>\n",
       "      <td>N/1000000</td>\n",
       "      <td>1999-01-01</td>\n",
       "      <td>EL</td>\n",
       "      <td>Greece</td>\n",
       "      <td>1.581723750</td>\n",
       "      <td>NaN</td>\n",
       "    </tr>\n",
       "    <tr>\n",
       "      <th>...</th>\n",
       "      <td>...</td>\n",
       "      <td>...</td>\n",
       "      <td>...</td>\n",
       "      <td>...</td>\n",
       "      <td>...</td>\n",
       "      <td>...</td>\n",
       "      <td>...</td>\n",
       "      <td>...</td>\n",
       "      <td>...</td>\n",
       "    </tr>\n",
       "    <tr>\n",
       "      <th>2217</th>\n",
       "      <td>Measles</td>\n",
       "      <td>Vaccination coverage</td>\n",
       "      <td>Vaccination coverage second dose</td>\n",
       "      <td>%</td>\n",
       "      <td>2018-01-01</td>\n",
       "      <td>SI</td>\n",
       "      <td>Slovenia</td>\n",
       "      <td>94</td>\n",
       "      <td>NaN</td>\n",
       "    </tr>\n",
       "    <tr>\n",
       "      <th>2218</th>\n",
       "      <td>Measles</td>\n",
       "      <td>Vaccination coverage</td>\n",
       "      <td>Vaccination coverage second dose</td>\n",
       "      <td>%</td>\n",
       "      <td>2018-01-01</td>\n",
       "      <td>SK</td>\n",
       "      <td>Slovakia</td>\n",
       "      <td>97</td>\n",
       "      <td>NaN</td>\n",
       "    </tr>\n",
       "    <tr>\n",
       "      <th>2219</th>\n",
       "      <td>Measles</td>\n",
       "      <td>Vaccination coverage</td>\n",
       "      <td>Vaccination coverage second dose</td>\n",
       "      <td>%</td>\n",
       "      <td>2018-01-01</td>\n",
       "      <td>SK</td>\n",
       "      <td>Slovakia</td>\n",
       "      <td>97</td>\n",
       "      <td>NaN</td>\n",
       "    </tr>\n",
       "    <tr>\n",
       "      <th>2220</th>\n",
       "      <td>Measles</td>\n",
       "      <td>Vaccination coverage</td>\n",
       "      <td>Vaccination coverage second dose</td>\n",
       "      <td>%</td>\n",
       "      <td>2018-01-01</td>\n",
       "      <td>UK</td>\n",
       "      <td>United Kingdom</td>\n",
       "      <td>88</td>\n",
       "      <td>NaN</td>\n",
       "    </tr>\n",
       "    <tr>\n",
       "      <th>2221</th>\n",
       "      <td>Measles</td>\n",
       "      <td>Vaccination coverage</td>\n",
       "      <td>Vaccination coverage second dose</td>\n",
       "      <td>%</td>\n",
       "      <td>2018-01-01</td>\n",
       "      <td>UK</td>\n",
       "      <td>United Kingdom</td>\n",
       "      <td>88</td>\n",
       "      <td>NaN</td>\n",
       "    </tr>\n",
       "  </tbody>\n",
       "</table>\n",
       "<p>53638 rows × 9 columns</p>\n",
       "</div>"
      ],
      "text/plain": [
       "     HealthTopic            Population                         Indicator  \\\n",
       "0        Measles             All cases                Notification rate    \n",
       "1        Measles             All cases                Notification rate    \n",
       "2        Measles             All cases                Notification rate    \n",
       "3        Measles             All cases                Notification rate    \n",
       "4        Measles             All cases                Notification rate    \n",
       "...          ...                   ...                               ...   \n",
       "2217     Measles  Vaccination coverage  Vaccination coverage second dose   \n",
       "2218     Measles  Vaccination coverage  Vaccination coverage second dose   \n",
       "2219     Measles  Vaccination coverage  Vaccination coverage second dose   \n",
       "2220     Measles  Vaccination coverage  Vaccination coverage second dose   \n",
       "2221     Measles  Vaccination coverage  Vaccination coverage second dose   \n",
       "\n",
       "           Unit       Time RegionCode      RegionName     NumValue  TxtValue  \n",
       "0     N/1000000 1999-01-01         AT         Austria  0.250549290       NaN  \n",
       "1     N/1000000 1999-01-01         AT         Austria  0.250549290       NaN  \n",
       "2     N/1000000 1999-01-01         DK         Denmark  0.188197140       NaN  \n",
       "3     N/1000000 1999-01-01         DK         Denmark  0.188197140       NaN  \n",
       "4     N/1000000 1999-01-01         EL          Greece  1.581723750       NaN  \n",
       "...         ...        ...        ...             ...          ...       ...  \n",
       "2217          % 2018-01-01         SI        Slovenia           94       NaN  \n",
       "2218          % 2018-01-01         SK        Slovakia           97       NaN  \n",
       "2219          % 2018-01-01         SK        Slovakia           97       NaN  \n",
       "2220          % 2018-01-01         UK  United Kingdom           88       NaN  \n",
       "2221          % 2018-01-01         UK  United Kingdom           88       NaN  \n",
       "\n",
       "[53638 rows x 9 columns]"
      ]
     },
     "execution_count": 12,
     "metadata": {},
     "output_type": "execute_result"
    }
   ],
   "source": [
    "measles"
   ]
  },
  {
   "cell_type": "markdown",
   "metadata": {},
   "source": [
    "### Cleaning process"
   ]
  },
  {
   "cell_type": "markdown",
   "metadata": {},
   "source": [
    "#### Dropping Duplicates"
   ]
  },
  {
   "cell_type": "code",
   "execution_count": 13,
   "metadata": {},
   "outputs": [
    {
     "name": "stdout",
     "output_type": "stream",
     "text": [
      "there are 26819 duplicates\n"
     ]
    }
   ],
   "source": [
    "print(f\"there are {measles.duplicated().sum()} duplicates\")"
   ]
  },
  {
   "cell_type": "code",
   "execution_count": 14,
   "metadata": {},
   "outputs": [],
   "source": [
    "#Dropping all duplicates\n",
    "measles.drop_duplicates(inplace=True)"
   ]
  },
  {
   "cell_type": "markdown",
   "metadata": {},
   "source": [
    "#### Renaming columns"
   ]
  },
  {
   "cell_type": "code",
   "execution_count": 15,
   "metadata": {},
   "outputs": [
    {
     "data": {
      "text/html": [
       "<div>\n",
       "<style scoped>\n",
       "    .dataframe tbody tr th:only-of-type {\n",
       "        vertical-align: middle;\n",
       "    }\n",
       "\n",
       "    .dataframe tbody tr th {\n",
       "        vertical-align: top;\n",
       "    }\n",
       "\n",
       "    .dataframe thead th {\n",
       "        text-align: right;\n",
       "    }\n",
       "</style>\n",
       "<table border=\"1\" class=\"dataframe\">\n",
       "  <thead>\n",
       "    <tr style=\"text-align: right;\">\n",
       "      <th></th>\n",
       "      <th>healthtopic</th>\n",
       "      <th>population</th>\n",
       "      <th>indicator</th>\n",
       "      <th>unit</th>\n",
       "      <th>time</th>\n",
       "      <th>regioncode</th>\n",
       "      <th>regionname</th>\n",
       "      <th>numvalue</th>\n",
       "      <th>txtvalue</th>\n",
       "    </tr>\n",
       "  </thead>\n",
       "  <tbody>\n",
       "    <tr>\n",
       "      <th>0</th>\n",
       "      <td>Measles</td>\n",
       "      <td>All cases</td>\n",
       "      <td>Notification rate</td>\n",
       "      <td>N/1000000</td>\n",
       "      <td>1999-01-01</td>\n",
       "      <td>AT</td>\n",
       "      <td>Austria</td>\n",
       "      <td>0.250549290</td>\n",
       "      <td>NaN</td>\n",
       "    </tr>\n",
       "    <tr>\n",
       "      <th>2</th>\n",
       "      <td>Measles</td>\n",
       "      <td>All cases</td>\n",
       "      <td>Notification rate</td>\n",
       "      <td>N/1000000</td>\n",
       "      <td>1999-01-01</td>\n",
       "      <td>DK</td>\n",
       "      <td>Denmark</td>\n",
       "      <td>0.188197140</td>\n",
       "      <td>NaN</td>\n",
       "    </tr>\n",
       "    <tr>\n",
       "      <th>4</th>\n",
       "      <td>Measles</td>\n",
       "      <td>All cases</td>\n",
       "      <td>Notification rate</td>\n",
       "      <td>N/1000000</td>\n",
       "      <td>1999-01-01</td>\n",
       "      <td>EL</td>\n",
       "      <td>Greece</td>\n",
       "      <td>1.581723750</td>\n",
       "      <td>NaN</td>\n",
       "    </tr>\n",
       "    <tr>\n",
       "      <th>6</th>\n",
       "      <td>Measles</td>\n",
       "      <td>All cases</td>\n",
       "      <td>Notification rate</td>\n",
       "      <td>N/1000000</td>\n",
       "      <td>1999-01-01</td>\n",
       "      <td>EU_EEA31</td>\n",
       "      <td>EU/EEA</td>\n",
       "      <td>0.822608000</td>\n",
       "      <td>NaN</td>\n",
       "    </tr>\n",
       "    <tr>\n",
       "      <th>8</th>\n",
       "      <td>Measles</td>\n",
       "      <td>All cases</td>\n",
       "      <td>Notification rate</td>\n",
       "      <td>N/1000000</td>\n",
       "      <td>1999-01-01</td>\n",
       "      <td>FI</td>\n",
       "      <td>Finland</td>\n",
       "      <td>0.000000000</td>\n",
       "      <td>NaN</td>\n",
       "    </tr>\n",
       "  </tbody>\n",
       "</table>\n",
       "</div>"
      ],
      "text/plain": [
       "  healthtopic population           indicator       unit       time regioncode  \\\n",
       "0     Measles  All cases  Notification rate   N/1000000 1999-01-01         AT   \n",
       "2     Measles  All cases  Notification rate   N/1000000 1999-01-01         DK   \n",
       "4     Measles  All cases  Notification rate   N/1000000 1999-01-01         EL   \n",
       "6     Measles  All cases  Notification rate   N/1000000 1999-01-01   EU_EEA31   \n",
       "8     Measles  All cases  Notification rate   N/1000000 1999-01-01         FI   \n",
       "\n",
       "  regionname     numvalue  txtvalue  \n",
       "0    Austria  0.250549290       NaN  \n",
       "2    Denmark  0.188197140       NaN  \n",
       "4     Greece  1.581723750       NaN  \n",
       "6     EU/EEA  0.822608000       NaN  \n",
       "8    Finland  0.000000000       NaN  "
      ]
     },
     "execution_count": 15,
     "metadata": {},
     "output_type": "execute_result"
    }
   ],
   "source": [
    "measles.columns = measles.columns.str.lower()\n",
    "measles.head()"
   ]
  },
  {
   "cell_type": "markdown",
   "metadata": {},
   "source": [
    "#### Checking NaN's "
   ]
  },
  {
   "cell_type": "code",
   "execution_count": 16,
   "metadata": {},
   "outputs": [
    {
     "data": {
      "text/plain": [
       "healthtopic        0\n",
       "population         0\n",
       "indicator          0\n",
       "unit               0\n",
       "time               0\n",
       "regioncode         0\n",
       "regionname         0\n",
       "numvalue           0\n",
       "txtvalue       26819\n",
       "dtype: int64"
      ]
     },
     "execution_count": 16,
     "metadata": {},
     "output_type": "execute_result"
    }
   ],
   "source": [
    "measles.isnull().sum()"
   ]
  },
  {
   "cell_type": "markdown",
   "metadata": {},
   "source": [
    "**Observation**: It's surprising that there are no missing values in the data. This sometimes means that the `NaNs` might be `strings` and are not detected doing method `isnull()`"
   ]
  },
  {
   "cell_type": "code",
   "execution_count": 17,
   "metadata": {},
   "outputs": [
    {
     "data": {
      "text/plain": [
       "771"
      ]
     },
     "execution_count": 17,
     "metadata": {},
     "output_type": "execute_result"
    }
   ],
   "source": [
    "measles.loc[measles['numvalue'] == '-', 'numvalue'].count()"
   ]
  },
  {
   "cell_type": "markdown",
   "metadata": {},
   "source": [
    "**Observation**: After further investigation it turns out that `NaNs` are indicated as `-` in the data set"
   ]
  },
  {
   "cell_type": "code",
   "execution_count": 18,
   "metadata": {},
   "outputs": [
    {
     "data": {
      "text/plain": [
       "healthtopic        0\n",
       "population         0\n",
       "indicator          0\n",
       "unit               0\n",
       "time               0\n",
       "regioncode         0\n",
       "regionname         0\n",
       "numvalue         771\n",
       "txtvalue       26819\n",
       "dtype: int64"
      ]
     },
     "execution_count": 18,
     "metadata": {},
     "output_type": "execute_result"
    }
   ],
   "source": [
    "#Converting \"-\" to NaNs\n",
    "measles.loc[measles['numvalue'] == '-', 'numvalue'] = None\n",
    "measles.isnull().sum()"
   ]
  },
  {
   "cell_type": "markdown",
   "metadata": {},
   "source": [
    "#### Dropping uninformative columns"
   ]
  },
  {
   "cell_type": "markdown",
   "metadata": {},
   "source": [
    "INFORMATION"
   ]
  },
  {
   "cell_type": "code",
   "execution_count": 19,
   "metadata": {},
   "outputs": [],
   "source": [
    "measles.drop(columns=['txtvalue', 'healthtopic','population'],inplace=True)"
   ]
  },
  {
   "cell_type": "markdown",
   "metadata": {},
   "source": [
    "#### Checking data types"
   ]
  },
  {
   "cell_type": "code",
   "execution_count": 20,
   "metadata": {},
   "outputs": [
    {
     "data": {
      "text/plain": [
       "indicator             object\n",
       "unit                  object\n",
       "time          datetime64[ns]\n",
       "regioncode            object\n",
       "regionname            object\n",
       "numvalue              object\n",
       "dtype: object"
      ]
     },
     "execution_count": 20,
     "metadata": {},
     "output_type": "execute_result"
    }
   ],
   "source": [
    "measles.dtypes"
   ]
  },
  {
   "cell_type": "markdown",
   "metadata": {},
   "source": [
    "**Observation:** `numvalue` column needs to be converted into `int`"
   ]
  },
  {
   "cell_type": "code",
   "execution_count": 21,
   "metadata": {},
   "outputs": [],
   "source": [
    "measles['numvalue'] = pd.to_numeric(measles['numvalue'])"
   ]
  },
  {
   "cell_type": "code",
   "execution_count": 22,
   "metadata": {},
   "outputs": [
    {
     "data": {
      "text/plain": [
       "indicator             object\n",
       "unit                  object\n",
       "time          datetime64[ns]\n",
       "regioncode            object\n",
       "regionname            object\n",
       "numvalue             float64\n",
       "dtype: object"
      ]
     },
     "execution_count": 22,
     "metadata": {},
     "output_type": "execute_result"
    }
   ],
   "source": [
    "#Check work\n",
    "measles.dtypes"
   ]
  },
  {
   "cell_type": "markdown",
   "metadata": {},
   "source": [
    "#### Converting Notification rate "
   ]
  },
  {
   "cell_type": "markdown",
   "metadata": {},
   "source": [
    "INFORMATION "
   ]
  },
  {
   "cell_type": "code",
   "execution_count": 23,
   "metadata": {},
   "outputs": [],
   "source": [
    "measles.loc[measles['indicator'] == \"Notification rate \", ['numvalue']] = measles.loc[measles['indicator'] == \"Notification rate \", ['numvalue']].apply(lambda x: x*1000000)"
   ]
  },
  {
   "cell_type": "code",
   "execution_count": 24,
   "metadata": {},
   "outputs": [
    {
     "data": {
      "text/html": [
       "<div>\n",
       "<style scoped>\n",
       "    .dataframe tbody tr th:only-of-type {\n",
       "        vertical-align: middle;\n",
       "    }\n",
       "\n",
       "    .dataframe tbody tr th {\n",
       "        vertical-align: top;\n",
       "    }\n",
       "\n",
       "    .dataframe thead th {\n",
       "        text-align: right;\n",
       "    }\n",
       "</style>\n",
       "<table border=\"1\" class=\"dataframe\">\n",
       "  <thead>\n",
       "    <tr style=\"text-align: right;\">\n",
       "      <th></th>\n",
       "      <th>indicator</th>\n",
       "      <th>unit</th>\n",
       "      <th>time</th>\n",
       "      <th>regioncode</th>\n",
       "      <th>regionname</th>\n",
       "      <th>numvalue</th>\n",
       "    </tr>\n",
       "  </thead>\n",
       "  <tbody>\n",
       "    <tr>\n",
       "      <th>0</th>\n",
       "      <td>Notification rate</td>\n",
       "      <td>N/1000000</td>\n",
       "      <td>1999-01-01</td>\n",
       "      <td>AT</td>\n",
       "      <td>Austria</td>\n",
       "      <td>250549.29</td>\n",
       "    </tr>\n",
       "    <tr>\n",
       "      <th>2</th>\n",
       "      <td>Notification rate</td>\n",
       "      <td>N/1000000</td>\n",
       "      <td>1999-01-01</td>\n",
       "      <td>DK</td>\n",
       "      <td>Denmark</td>\n",
       "      <td>188197.14</td>\n",
       "    </tr>\n",
       "    <tr>\n",
       "      <th>4</th>\n",
       "      <td>Notification rate</td>\n",
       "      <td>N/1000000</td>\n",
       "      <td>1999-01-01</td>\n",
       "      <td>EL</td>\n",
       "      <td>Greece</td>\n",
       "      <td>1581723.75</td>\n",
       "    </tr>\n",
       "    <tr>\n",
       "      <th>6</th>\n",
       "      <td>Notification rate</td>\n",
       "      <td>N/1000000</td>\n",
       "      <td>1999-01-01</td>\n",
       "      <td>EU_EEA31</td>\n",
       "      <td>EU/EEA</td>\n",
       "      <td>822608.00</td>\n",
       "    </tr>\n",
       "    <tr>\n",
       "      <th>8</th>\n",
       "      <td>Notification rate</td>\n",
       "      <td>N/1000000</td>\n",
       "      <td>1999-01-01</td>\n",
       "      <td>FI</td>\n",
       "      <td>Finland</td>\n",
       "      <td>0.00</td>\n",
       "    </tr>\n",
       "  </tbody>\n",
       "</table>\n",
       "</div>"
      ],
      "text/plain": [
       "            indicator       unit       time regioncode regionname    numvalue\n",
       "0  Notification rate   N/1000000 1999-01-01         AT    Austria   250549.29\n",
       "2  Notification rate   N/1000000 1999-01-01         DK    Denmark   188197.14\n",
       "4  Notification rate   N/1000000 1999-01-01         EL     Greece  1581723.75\n",
       "6  Notification rate   N/1000000 1999-01-01   EU_EEA31     EU/EEA   822608.00\n",
       "8  Notification rate   N/1000000 1999-01-01         FI    Finland        0.00"
      ]
     },
     "execution_count": 24,
     "metadata": {},
     "output_type": "execute_result"
    }
   ],
   "source": [
    "measles.head()"
   ]
  },
  {
   "cell_type": "markdown",
   "metadata": {},
   "source": [
    "#### Dropping rows containing Eu/EEA"
   ]
  },
  {
   "cell_type": "markdown",
   "metadata": {},
   "source": [
    "INFORMATION"
   ]
  },
  {
   "cell_type": "code",
   "execution_count": 25,
   "metadata": {},
   "outputs": [
    {
     "data": {
      "text/plain": [
       "(26819, 6)"
      ]
     },
     "execution_count": 25,
     "metadata": {},
     "output_type": "execute_result"
    }
   ],
   "source": [
    "measles.shape"
   ]
  },
  {
   "cell_type": "code",
   "execution_count": 26,
   "metadata": {},
   "outputs": [],
   "source": [
    "measles.reset_index(inplace=True)"
   ]
  },
  {
   "cell_type": "code",
   "execution_count": 27,
   "metadata": {},
   "outputs": [],
   "source": [
    "measles.drop(columns='index', inplace=True)"
   ]
  },
  {
   "cell_type": "code",
   "execution_count": 28,
   "metadata": {},
   "outputs": [],
   "source": [
    "measles.drop(labels= measles.loc[measles['regionname'] == 'EU/EEA'].index,  inplace=True)"
   ]
  },
  {
   "cell_type": "code",
   "execution_count": 29,
   "metadata": {},
   "outputs": [
    {
     "data": {
      "text/html": [
       "<div>\n",
       "<style scoped>\n",
       "    .dataframe tbody tr th:only-of-type {\n",
       "        vertical-align: middle;\n",
       "    }\n",
       "\n",
       "    .dataframe tbody tr th {\n",
       "        vertical-align: top;\n",
       "    }\n",
       "\n",
       "    .dataframe thead th {\n",
       "        text-align: right;\n",
       "    }\n",
       "</style>\n",
       "<table border=\"1\" class=\"dataframe\">\n",
       "  <thead>\n",
       "    <tr style=\"text-align: right;\">\n",
       "      <th></th>\n",
       "      <th>indicator</th>\n",
       "      <th>unit</th>\n",
       "      <th>time</th>\n",
       "      <th>regioncode</th>\n",
       "      <th>regionname</th>\n",
       "      <th>numvalue</th>\n",
       "    </tr>\n",
       "  </thead>\n",
       "  <tbody>\n",
       "    <tr>\n",
       "      <th>0</th>\n",
       "      <td>Notification rate</td>\n",
       "      <td>N/1000000</td>\n",
       "      <td>1999-01-01</td>\n",
       "      <td>AT</td>\n",
       "      <td>Austria</td>\n",
       "      <td>250549.29</td>\n",
       "    </tr>\n",
       "    <tr>\n",
       "      <th>1</th>\n",
       "      <td>Notification rate</td>\n",
       "      <td>N/1000000</td>\n",
       "      <td>1999-01-01</td>\n",
       "      <td>DK</td>\n",
       "      <td>Denmark</td>\n",
       "      <td>188197.14</td>\n",
       "    </tr>\n",
       "    <tr>\n",
       "      <th>2</th>\n",
       "      <td>Notification rate</td>\n",
       "      <td>N/1000000</td>\n",
       "      <td>1999-01-01</td>\n",
       "      <td>EL</td>\n",
       "      <td>Greece</td>\n",
       "      <td>1581723.75</td>\n",
       "    </tr>\n",
       "    <tr>\n",
       "      <th>4</th>\n",
       "      <td>Notification rate</td>\n",
       "      <td>N/1000000</td>\n",
       "      <td>1999-01-01</td>\n",
       "      <td>FI</td>\n",
       "      <td>Finland</td>\n",
       "      <td>0.00</td>\n",
       "    </tr>\n",
       "    <tr>\n",
       "      <th>5</th>\n",
       "      <td>Notification rate</td>\n",
       "      <td>N/1000000</td>\n",
       "      <td>1999-01-01</td>\n",
       "      <td>IE</td>\n",
       "      <td>Ireland</td>\n",
       "      <td>1875666.86</td>\n",
       "    </tr>\n",
       "    <tr>\n",
       "      <th>...</th>\n",
       "      <td>...</td>\n",
       "      <td>...</td>\n",
       "      <td>...</td>\n",
       "      <td>...</td>\n",
       "      <td>...</td>\n",
       "      <td>...</td>\n",
       "    </tr>\n",
       "    <tr>\n",
       "      <th>26814</th>\n",
       "      <td>Vaccination coverage second dose</td>\n",
       "      <td>%</td>\n",
       "      <td>2018-01-01</td>\n",
       "      <td>RO</td>\n",
       "      <td>Romania</td>\n",
       "      <td>81.00</td>\n",
       "    </tr>\n",
       "    <tr>\n",
       "      <th>26815</th>\n",
       "      <td>Vaccination coverage second dose</td>\n",
       "      <td>%</td>\n",
       "      <td>2018-01-01</td>\n",
       "      <td>SE</td>\n",
       "      <td>Sweden</td>\n",
       "      <td>95.00</td>\n",
       "    </tr>\n",
       "    <tr>\n",
       "      <th>26816</th>\n",
       "      <td>Vaccination coverage second dose</td>\n",
       "      <td>%</td>\n",
       "      <td>2018-01-01</td>\n",
       "      <td>SI</td>\n",
       "      <td>Slovenia</td>\n",
       "      <td>94.00</td>\n",
       "    </tr>\n",
       "    <tr>\n",
       "      <th>26817</th>\n",
       "      <td>Vaccination coverage second dose</td>\n",
       "      <td>%</td>\n",
       "      <td>2018-01-01</td>\n",
       "      <td>SK</td>\n",
       "      <td>Slovakia</td>\n",
       "      <td>97.00</td>\n",
       "    </tr>\n",
       "    <tr>\n",
       "      <th>26818</th>\n",
       "      <td>Vaccination coverage second dose</td>\n",
       "      <td>%</td>\n",
       "      <td>2018-01-01</td>\n",
       "      <td>UK</td>\n",
       "      <td>United Kingdom</td>\n",
       "      <td>88.00</td>\n",
       "    </tr>\n",
       "  </tbody>\n",
       "</table>\n",
       "<p>25787 rows × 6 columns</p>\n",
       "</div>"
      ],
      "text/plain": [
       "                              indicator       unit       time regioncode  \\\n",
       "0                    Notification rate   N/1000000 1999-01-01         AT   \n",
       "1                    Notification rate   N/1000000 1999-01-01         DK   \n",
       "2                    Notification rate   N/1000000 1999-01-01         EL   \n",
       "4                    Notification rate   N/1000000 1999-01-01         FI   \n",
       "5                    Notification rate   N/1000000 1999-01-01         IE   \n",
       "...                                 ...        ...        ...        ...   \n",
       "26814  Vaccination coverage second dose          % 2018-01-01         RO   \n",
       "26815  Vaccination coverage second dose          % 2018-01-01         SE   \n",
       "26816  Vaccination coverage second dose          % 2018-01-01         SI   \n",
       "26817  Vaccination coverage second dose          % 2018-01-01         SK   \n",
       "26818  Vaccination coverage second dose          % 2018-01-01         UK   \n",
       "\n",
       "           regionname    numvalue  \n",
       "0             Austria   250549.29  \n",
       "1             Denmark   188197.14  \n",
       "2              Greece  1581723.75  \n",
       "4             Finland        0.00  \n",
       "5             Ireland  1875666.86  \n",
       "...               ...         ...  \n",
       "26814         Romania       81.00  \n",
       "26815          Sweden       95.00  \n",
       "26816        Slovenia       94.00  \n",
       "26817        Slovakia       97.00  \n",
       "26818  United Kingdom       88.00  \n",
       "\n",
       "[25787 rows x 6 columns]"
      ]
     },
     "execution_count": 29,
     "metadata": {},
     "output_type": "execute_result"
    }
   ],
   "source": [
    "measles"
   ]
  },
  {
   "cell_type": "code",
   "execution_count": 30,
   "metadata": {},
   "outputs": [
    {
     "data": {
      "text/plain": [
       "(25787, 6)"
      ]
     },
     "execution_count": 30,
     "metadata": {},
     "output_type": "execute_result"
    }
   ],
   "source": [
    "measles.shape"
   ]
  },
  {
   "cell_type": "markdown",
   "metadata": {},
   "source": [
    "NEXT STEP"
   ]
  },
  {
   "cell_type": "code",
   "execution_count": 31,
   "metadata": {},
   "outputs": [],
   "source": [
    "#Save as a new CSV file\n",
    "measles.to_csv('../data/measles.csv', index=False)"
   ]
  },
  {
   "cell_type": "code",
   "execution_count": null,
   "metadata": {},
   "outputs": [],
   "source": []
  }
 ],
 "metadata": {
  "kernelspec": {
   "display_name": "Python 3",
   "language": "python",
   "name": "python3"
  },
  "language_info": {
   "codemirror_mode": {
    "name": "ipython",
    "version": 3
   },
   "file_extension": ".py",
   "mimetype": "text/x-python",
   "name": "python",
   "nbconvert_exporter": "python",
   "pygments_lexer": "ipython3",
   "version": "3.7.3"
  },
  "toc": {
   "base_numbering": 1,
   "nav_menu": {},
   "number_sections": true,
   "sideBar": true,
   "skip_h1_title": false,
   "title_cell": "Table of Contents",
   "title_sidebar": "Contents",
   "toc_cell": true,
   "toc_position": {},
   "toc_section_display": true,
   "toc_window_display": false
  },
  "toc-autonumbering": false,
  "toc-showcode": true,
  "toc-showmarkdowntxt": false,
  "toc-showtags": false,
  "widgets": {
   "application/vnd.jupyter.widget-state+json": {
    "state": {},
    "version_major": 2,
    "version_minor": 0
   }
  }
 },
 "nbformat": 4,
 "nbformat_minor": 4
}
