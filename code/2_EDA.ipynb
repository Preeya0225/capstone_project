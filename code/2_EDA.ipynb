{
 "cells": [
  {
   "cell_type": "markdown",
   "metadata": {},
   "source": [
    "# Title "
   ]
  },
  {
   "cell_type": "markdown",
   "metadata": {},
   "source": [
    "## Exploratory Data Analysis\n",
    "---\n",
    "\n",
    "In this notebook"
   ]
  },
  {
   "cell_type": "markdown",
   "metadata": {},
   "source": [
    "### Table of content\n",
    "---"
   ]
  },
  {
   "cell_type": "markdown",
   "metadata": {},
   "source": [
    "### Import Packages "
   ]
  },
  {
   "cell_type": "code",
   "execution_count": 30,
   "metadata": {},
   "outputs": [],
   "source": [
    "#Import miscellaneous\n",
    "import warnings\n",
    "warnings.simplefilter(action='ignore', category=FutureWarning)\n",
    "\n",
    "#Import processing tools\n",
    "import pandas as pd \n",
    "import numpy  as np\n",
    "\n",
    "#Import Visualization tools\n",
    "import seaborn           as sns\n",
    "import matplotlib.pyplot as plt\n",
    "%matplotlib inline\n"
   ]
  },
  {
   "cell_type": "code",
   "execution_count": 31,
   "metadata": {},
   "outputs": [],
   "source": [
    "#Read in data set\n",
    "outbreak = pd.read_csv('../data/measles.csv')"
   ]
  },
  {
   "cell_type": "code",
   "execution_count": 32,
   "metadata": {},
   "outputs": [
    {
     "data": {
      "text/html": [
       "<div>\n",
       "<style scoped>\n",
       "    .dataframe tbody tr th:only-of-type {\n",
       "        vertical-align: middle;\n",
       "    }\n",
       "\n",
       "    .dataframe tbody tr th {\n",
       "        vertical-align: top;\n",
       "    }\n",
       "\n",
       "    .dataframe thead th {\n",
       "        text-align: right;\n",
       "    }\n",
       "</style>\n",
       "<table border=\"1\" class=\"dataframe\">\n",
       "  <thead>\n",
       "    <tr style=\"text-align: right;\">\n",
       "      <th></th>\n",
       "      <th>indicator</th>\n",
       "      <th>unit</th>\n",
       "      <th>time</th>\n",
       "      <th>regioncode</th>\n",
       "      <th>regionname</th>\n",
       "      <th>numvalue</th>\n",
       "    </tr>\n",
       "  </thead>\n",
       "  <tbody>\n",
       "    <tr>\n",
       "      <th>0</th>\n",
       "      <td>Notification rate</td>\n",
       "      <td>N/1000000</td>\n",
       "      <td>1999-01-01</td>\n",
       "      <td>AT</td>\n",
       "      <td>Austria</td>\n",
       "      <td>0.250549</td>\n",
       "    </tr>\n",
       "    <tr>\n",
       "      <th>1</th>\n",
       "      <td>Notification rate</td>\n",
       "      <td>N/1000000</td>\n",
       "      <td>1999-01-01</td>\n",
       "      <td>DK</td>\n",
       "      <td>Denmark</td>\n",
       "      <td>0.188197</td>\n",
       "    </tr>\n",
       "    <tr>\n",
       "      <th>2</th>\n",
       "      <td>Notification rate</td>\n",
       "      <td>N/1000000</td>\n",
       "      <td>1999-01-01</td>\n",
       "      <td>EL</td>\n",
       "      <td>Greece</td>\n",
       "      <td>1.581724</td>\n",
       "    </tr>\n",
       "    <tr>\n",
       "      <th>3</th>\n",
       "      <td>Notification rate</td>\n",
       "      <td>N/1000000</td>\n",
       "      <td>1999-01-01</td>\n",
       "      <td>EU_EEA31</td>\n",
       "      <td>EU/EEA</td>\n",
       "      <td>0.822608</td>\n",
       "    </tr>\n",
       "    <tr>\n",
       "      <th>4</th>\n",
       "      <td>Notification rate</td>\n",
       "      <td>N/1000000</td>\n",
       "      <td>1999-01-01</td>\n",
       "      <td>FI</td>\n",
       "      <td>Finland</td>\n",
       "      <td>0.000000</td>\n",
       "    </tr>\n",
       "  </tbody>\n",
       "</table>\n",
       "</div>"
      ],
      "text/plain": [
       "            indicator       unit        time regioncode regionname  numvalue\n",
       "0  Notification rate   N/1000000  1999-01-01         AT    Austria  0.250549\n",
       "1  Notification rate   N/1000000  1999-01-01         DK    Denmark  0.188197\n",
       "2  Notification rate   N/1000000  1999-01-01         EL     Greece  1.581724\n",
       "3  Notification rate   N/1000000  1999-01-01   EU_EEA31     EU/EEA  0.822608\n",
       "4  Notification rate   N/1000000  1999-01-01         FI    Finland  0.000000"
      ]
     },
     "execution_count": 32,
     "metadata": {},
     "output_type": "execute_result"
    }
   ],
   "source": [
    "outbreak.head()"
   ]
  },
  {
   "cell_type": "code",
   "execution_count": 34,
   "metadata": {},
   "outputs": [
    {
     "data": {
      "text/html": [
       "<div>\n",
       "<style scoped>\n",
       "    .dataframe tbody tr th:only-of-type {\n",
       "        vertical-align: middle;\n",
       "    }\n",
       "\n",
       "    .dataframe tbody tr th {\n",
       "        vertical-align: top;\n",
       "    }\n",
       "\n",
       "    .dataframe thead th {\n",
       "        text-align: right;\n",
       "    }\n",
       "</style>\n",
       "<table border=\"1\" class=\"dataframe\">\n",
       "  <thead>\n",
       "    <tr style=\"text-align: right;\">\n",
       "      <th></th>\n",
       "      <th>indicator</th>\n",
       "      <th>unit</th>\n",
       "      <th>time</th>\n",
       "      <th>regioncode</th>\n",
       "      <th>regionname</th>\n",
       "      <th>numvalue</th>\n",
       "    </tr>\n",
       "  </thead>\n",
       "  <tbody>\n",
       "    <tr>\n",
       "      <th>26814</th>\n",
       "      <td>Vaccination coverage second dose</td>\n",
       "      <td>%</td>\n",
       "      <td>2018-01-01</td>\n",
       "      <td>RO</td>\n",
       "      <td>Romania</td>\n",
       "      <td>81.0</td>\n",
       "    </tr>\n",
       "    <tr>\n",
       "      <th>26815</th>\n",
       "      <td>Vaccination coverage second dose</td>\n",
       "      <td>%</td>\n",
       "      <td>2018-01-01</td>\n",
       "      <td>SE</td>\n",
       "      <td>Sweden</td>\n",
       "      <td>95.0</td>\n",
       "    </tr>\n",
       "    <tr>\n",
       "      <th>26816</th>\n",
       "      <td>Vaccination coverage second dose</td>\n",
       "      <td>%</td>\n",
       "      <td>2018-01-01</td>\n",
       "      <td>SI</td>\n",
       "      <td>Slovenia</td>\n",
       "      <td>94.0</td>\n",
       "    </tr>\n",
       "    <tr>\n",
       "      <th>26817</th>\n",
       "      <td>Vaccination coverage second dose</td>\n",
       "      <td>%</td>\n",
       "      <td>2018-01-01</td>\n",
       "      <td>SK</td>\n",
       "      <td>Slovakia</td>\n",
       "      <td>97.0</td>\n",
       "    </tr>\n",
       "    <tr>\n",
       "      <th>26818</th>\n",
       "      <td>Vaccination coverage second dose</td>\n",
       "      <td>%</td>\n",
       "      <td>2018-01-01</td>\n",
       "      <td>UK</td>\n",
       "      <td>United Kingdom</td>\n",
       "      <td>88.0</td>\n",
       "    </tr>\n",
       "  </tbody>\n",
       "</table>\n",
       "</div>"
      ],
      "text/plain": [
       "                              indicator unit        time regioncode  \\\n",
       "26814  Vaccination coverage second dose    %  2018-01-01         RO   \n",
       "26815  Vaccination coverage second dose    %  2018-01-01         SE   \n",
       "26816  Vaccination coverage second dose    %  2018-01-01         SI   \n",
       "26817  Vaccination coverage second dose    %  2018-01-01         SK   \n",
       "26818  Vaccination coverage second dose    %  2018-01-01         UK   \n",
       "\n",
       "           regionname  numvalue  \n",
       "26814         Romania      81.0  \n",
       "26815          Sweden      95.0  \n",
       "26816        Slovenia      94.0  \n",
       "26817        Slovakia      97.0  \n",
       "26818  United Kingdom      88.0  "
      ]
     },
     "execution_count": 34,
     "metadata": {},
     "output_type": "execute_result"
    }
   ],
   "source": [
    "outbreak.tail()"
   ]
  },
  {
   "cell_type": "code",
   "execution_count": 38,
   "metadata": {},
   "outputs": [],
   "source": [
    "outbreak['time'] = pd.to_datetime(outbreak['time'])"
   ]
  },
  {
   "cell_type": "markdown",
   "metadata": {},
   "source": [
    "### Different indicators"
   ]
  },
  {
   "cell_type": "code",
   "execution_count": 39,
   "metadata": {},
   "outputs": [
    {
     "data": {
      "text/plain": [
       "array(['Notification rate ', 'Number of deaths', 'Reported cases',\n",
       "       'Reported confirmed cases', 'Vaccination coverage first dose',\n",
       "       'Vaccination coverage second dose'], dtype=object)"
      ]
     },
     "execution_count": 39,
     "metadata": {},
     "output_type": "execute_result"
    }
   ],
   "source": [
    "outbreak['indicator'].unique()"
   ]
  },
  {
   "cell_type": "code",
   "execution_count": 40,
   "metadata": {},
   "outputs": [
    {
     "data": {
      "text/html": [
       "<div>\n",
       "<style scoped>\n",
       "    .dataframe tbody tr th:only-of-type {\n",
       "        vertical-align: middle;\n",
       "    }\n",
       "\n",
       "    .dataframe tbody tr th {\n",
       "        vertical-align: top;\n",
       "    }\n",
       "\n",
       "    .dataframe thead th {\n",
       "        text-align: right;\n",
       "    }\n",
       "</style>\n",
       "<table border=\"1\" class=\"dataframe\">\n",
       "  <thead>\n",
       "    <tr style=\"text-align: right;\">\n",
       "      <th></th>\n",
       "      <th>indicator</th>\n",
       "      <th>unit</th>\n",
       "      <th>time</th>\n",
       "      <th>regioncode</th>\n",
       "      <th>regionname</th>\n",
       "      <th>numvalue</th>\n",
       "    </tr>\n",
       "  </thead>\n",
       "  <tbody>\n",
       "    <tr>\n",
       "      <th>0</th>\n",
       "      <td>Notification rate</td>\n",
       "      <td>N/1000000</td>\n",
       "      <td>1999-01-01</td>\n",
       "      <td>AT</td>\n",
       "      <td>Austria</td>\n",
       "      <td>0.250549</td>\n",
       "    </tr>\n",
       "    <tr>\n",
       "      <th>1</th>\n",
       "      <td>Notification rate</td>\n",
       "      <td>N/1000000</td>\n",
       "      <td>1999-01-01</td>\n",
       "      <td>DK</td>\n",
       "      <td>Denmark</td>\n",
       "      <td>0.188197</td>\n",
       "    </tr>\n",
       "    <tr>\n",
       "      <th>2</th>\n",
       "      <td>Notification rate</td>\n",
       "      <td>N/1000000</td>\n",
       "      <td>1999-01-01</td>\n",
       "      <td>EL</td>\n",
       "      <td>Greece</td>\n",
       "      <td>1.581724</td>\n",
       "    </tr>\n",
       "    <tr>\n",
       "      <th>3</th>\n",
       "      <td>Notification rate</td>\n",
       "      <td>N/1000000</td>\n",
       "      <td>1999-01-01</td>\n",
       "      <td>EU_EEA31</td>\n",
       "      <td>EU/EEA</td>\n",
       "      <td>0.822608</td>\n",
       "    </tr>\n",
       "    <tr>\n",
       "      <th>4</th>\n",
       "      <td>Notification rate</td>\n",
       "      <td>N/1000000</td>\n",
       "      <td>1999-01-01</td>\n",
       "      <td>FI</td>\n",
       "      <td>Finland</td>\n",
       "      <td>0.000000</td>\n",
       "    </tr>\n",
       "  </tbody>\n",
       "</table>\n",
       "</div>"
      ],
      "text/plain": [
       "            indicator       unit       time regioncode regionname  numvalue\n",
       "0  Notification rate   N/1000000 1999-01-01         AT    Austria  0.250549\n",
       "1  Notification rate   N/1000000 1999-01-01         DK    Denmark  0.188197\n",
       "2  Notification rate   N/1000000 1999-01-01         EL     Greece  1.581724\n",
       "3  Notification rate   N/1000000 1999-01-01   EU_EEA31     EU/EEA  0.822608\n",
       "4  Notification rate   N/1000000 1999-01-01         FI    Finland  0.000000"
      ]
     },
     "execution_count": 40,
     "metadata": {},
     "output_type": "execute_result"
    }
   ],
   "source": [
    "outbreak.loc[outbreak['indicator'] == 'Notification rate '].head()"
   ]
  },
  {
   "cell_type": "code",
   "execution_count": 41,
   "metadata": {},
   "outputs": [
    {
     "data": {
      "text/plain": [
       "Number of deaths                    6427\n",
       "Reported cases                      6427\n",
       "Reported confirmed cases            6427\n",
       "Notification rate                   6427\n",
       "Vaccination coverage first dose      620\n",
       "Vaccination coverage second dose     491\n",
       "Name: indicator, dtype: int64"
      ]
     },
     "execution_count": 41,
     "metadata": {},
     "output_type": "execute_result"
    }
   ],
   "source": [
    "outbreak['indicator'].value_counts()"
   ]
  },
  {
   "cell_type": "code",
   "execution_count": 42,
   "metadata": {},
   "outputs": [],
   "source": [
    "#### Creating a data frame for each for the different indicator ???\n",
    "\n",
    "# for indicator in outbreak['indicator'].unique():\n",
    "#     pd.DataFrame(outbreak, index=outbreak.loc[outbreak['indicator'] == str(indicator)].index)"
   ]
  },
  {
   "cell_type": "markdown",
   "metadata": {},
   "source": [
    "#### Different regions"
   ]
  },
  {
   "cell_type": "code",
   "execution_count": 43,
   "metadata": {},
   "outputs": [
    {
     "data": {
      "text/plain": [
       "Index(['Netherlands', 'EU/EEA', 'Sweden', 'Norway', 'United Kingdom',\n",
       "       'Denmark', 'Greece', 'Italy', 'Finland', 'Ireland', 'Portugal',\n",
       "       'Austria', 'Germany', 'Malta', 'Spain', 'Luxembourg', 'Belgium',\n",
       "       'Czech Republic', 'Romania', 'Poland', 'Slovenia', 'Bulgaria',\n",
       "       'Estonia', 'Slovakia', 'Hungary', 'Lithuania', 'Iceland', 'Latvia',\n",
       "       'Cyprus', 'France', 'Croatia'],\n",
       "      dtype='object')"
      ]
     },
     "execution_count": 43,
     "metadata": {},
     "output_type": "execute_result"
    }
   ],
   "source": [
    "outbreak['regionname'].value_counts().index"
   ]
  },
  {
   "cell_type": "code",
   "execution_count": 46,
   "metadata": {},
   "outputs": [
    {
     "data": {
      "text/plain": [
       "indicator             object\n",
       "unit                  object\n",
       "time          datetime64[ns]\n",
       "regioncode            object\n",
       "regionname            object\n",
       "numvalue             float64\n",
       "dtype: object"
      ]
     },
     "execution_count": 46,
     "metadata": {},
     "output_type": "execute_result"
    }
   ],
   "source": [
    "france = outbreak[outbreak['regionname'] == 'France']\n",
    "france.dtypes"
   ]
  },
  {
   "cell_type": "code",
   "execution_count": 58,
   "metadata": {},
   "outputs": [
    {
     "data": {
      "text/plain": [
       "array(['Notification rate ', 'Number of deaths', 'Reported cases',\n",
       "       'Reported confirmed cases', 'Vaccination coverage first dose',\n",
       "       'Vaccination coverage second dose'], dtype=object)"
      ]
     },
     "execution_count": 58,
     "metadata": {},
     "output_type": "execute_result"
    }
   ],
   "source": [
    "france['indicator'].unique()"
   ]
  },
  {
   "cell_type": "code",
   "execution_count": 78,
   "metadata": {},
   "outputs": [],
   "source": [
    "#Mask for indicators \n",
    "\n",
    "indicator = outbreak['indicator'] == 'Notification rate '\n",
    "deaths = outbreak['indicator'] == 'Number of deaths'\n",
    "reported = outbreak['indicator'] == 'Reported cases'\n",
    "confirmed = outbreak['indicator'] == 'Reported confirmed cases'\n",
    "vaccine_1 = outbreak['indicator'] == 'Vaccination coverage first dose'\n",
    "vaccine_2 = outbreak['indicator'] == 'Vaccination coverage second dose'"
   ]
  },
  {
   "cell_type": "code",
   "execution_count": 61,
   "metadata": {},
   "outputs": [
    {
     "data": {
      "text/html": [
       "<div>\n",
       "<style scoped>\n",
       "    .dataframe tbody tr th:only-of-type {\n",
       "        vertical-align: middle;\n",
       "    }\n",
       "\n",
       "    .dataframe tbody tr th {\n",
       "        vertical-align: top;\n",
       "    }\n",
       "\n",
       "    .dataframe thead th {\n",
       "        text-align: right;\n",
       "    }\n",
       "</style>\n",
       "<table border=\"1\" class=\"dataframe\">\n",
       "  <thead>\n",
       "    <tr style=\"text-align: right;\">\n",
       "      <th></th>\n",
       "      <th>indicator</th>\n",
       "      <th>unit</th>\n",
       "      <th>time</th>\n",
       "      <th>regioncode</th>\n",
       "      <th>regionname</th>\n",
       "      <th>numvalue</th>\n",
       "    </tr>\n",
       "  </thead>\n",
       "  <tbody>\n",
       "    <tr>\n",
       "      <th>1416</th>\n",
       "      <td>Notification rate</td>\n",
       "      <td>N/1000000</td>\n",
       "      <td>2006-01-01</td>\n",
       "      <td>FR</td>\n",
       "      <td>France</td>\n",
       "      <td>0.158154</td>\n",
       "    </tr>\n",
       "    <tr>\n",
       "      <th>1446</th>\n",
       "      <td>Notification rate</td>\n",
       "      <td>N/1000000</td>\n",
       "      <td>2006-02-01</td>\n",
       "      <td>FR</td>\n",
       "      <td>France</td>\n",
       "      <td>0.094892</td>\n",
       "    </tr>\n",
       "    <tr>\n",
       "      <th>1476</th>\n",
       "      <td>Notification rate</td>\n",
       "      <td>N/1000000</td>\n",
       "      <td>2006-03-01</td>\n",
       "      <td>FR</td>\n",
       "      <td>France</td>\n",
       "      <td>0.094892</td>\n",
       "    </tr>\n",
       "    <tr>\n",
       "      <th>1506</th>\n",
       "      <td>Notification rate</td>\n",
       "      <td>N/1000000</td>\n",
       "      <td>2006-04-01</td>\n",
       "      <td>FR</td>\n",
       "      <td>France</td>\n",
       "      <td>0.047446</td>\n",
       "    </tr>\n",
       "    <tr>\n",
       "      <th>1536</th>\n",
       "      <td>Notification rate</td>\n",
       "      <td>N/1000000</td>\n",
       "      <td>2006-05-01</td>\n",
       "      <td>FR</td>\n",
       "      <td>France</td>\n",
       "      <td>0.015815</td>\n",
       "    </tr>\n",
       "  </tbody>\n",
       "</table>\n",
       "</div>"
      ],
      "text/plain": [
       "               indicator       unit       time regioncode regionname  numvalue\n",
       "1416  Notification rate   N/1000000 2006-01-01         FR     France  0.158154\n",
       "1446  Notification rate   N/1000000 2006-02-01         FR     France  0.094892\n",
       "1476  Notification rate   N/1000000 2006-03-01         FR     France  0.094892\n",
       "1506  Notification rate   N/1000000 2006-04-01         FR     France  0.047446\n",
       "1536  Notification rate   N/1000000 2006-05-01         FR     France  0.015815"
      ]
     },
     "execution_count": 61,
     "metadata": {},
     "output_type": "execute_result"
    }
   ],
   "source": [
    "france.loc[indicator].head()"
   ]
  },
  {
   "cell_type": "code",
   "execution_count": 63,
   "metadata": {},
   "outputs": [
    {
     "data": {
      "text/html": [
       "<div>\n",
       "<style scoped>\n",
       "    .dataframe tbody tr th:only-of-type {\n",
       "        vertical-align: middle;\n",
       "    }\n",
       "\n",
       "    .dataframe tbody tr th {\n",
       "        vertical-align: top;\n",
       "    }\n",
       "\n",
       "    .dataframe thead th {\n",
       "        text-align: right;\n",
       "    }\n",
       "</style>\n",
       "<table border=\"1\" class=\"dataframe\">\n",
       "  <thead>\n",
       "    <tr style=\"text-align: right;\">\n",
       "      <th></th>\n",
       "      <th>indicator</th>\n",
       "      <th>unit</th>\n",
       "      <th>time</th>\n",
       "      <th>regioncode</th>\n",
       "      <th>regionname</th>\n",
       "      <th>numvalue</th>\n",
       "    </tr>\n",
       "  </thead>\n",
       "  <tbody>\n",
       "    <tr>\n",
       "      <th>7843</th>\n",
       "      <td>Number of deaths</td>\n",
       "      <td>N</td>\n",
       "      <td>2006-01-01</td>\n",
       "      <td>FR</td>\n",
       "      <td>France</td>\n",
       "      <td>0.0</td>\n",
       "    </tr>\n",
       "    <tr>\n",
       "      <th>7873</th>\n",
       "      <td>Number of deaths</td>\n",
       "      <td>N</td>\n",
       "      <td>2006-02-01</td>\n",
       "      <td>FR</td>\n",
       "      <td>France</td>\n",
       "      <td>0.0</td>\n",
       "    </tr>\n",
       "    <tr>\n",
       "      <th>7903</th>\n",
       "      <td>Number of deaths</td>\n",
       "      <td>N</td>\n",
       "      <td>2006-03-01</td>\n",
       "      <td>FR</td>\n",
       "      <td>France</td>\n",
       "      <td>0.0</td>\n",
       "    </tr>\n",
       "    <tr>\n",
       "      <th>7933</th>\n",
       "      <td>Number of deaths</td>\n",
       "      <td>N</td>\n",
       "      <td>2006-04-01</td>\n",
       "      <td>FR</td>\n",
       "      <td>France</td>\n",
       "      <td>0.0</td>\n",
       "    </tr>\n",
       "    <tr>\n",
       "      <th>7963</th>\n",
       "      <td>Number of deaths</td>\n",
       "      <td>N</td>\n",
       "      <td>2006-05-01</td>\n",
       "      <td>FR</td>\n",
       "      <td>France</td>\n",
       "      <td>NaN</td>\n",
       "    </tr>\n",
       "  </tbody>\n",
       "</table>\n",
       "</div>"
      ],
      "text/plain": [
       "             indicator unit       time regioncode regionname  numvalue\n",
       "7843  Number of deaths    N 2006-01-01         FR     France       0.0\n",
       "7873  Number of deaths    N 2006-02-01         FR     France       0.0\n",
       "7903  Number of deaths    N 2006-03-01         FR     France       0.0\n",
       "7933  Number of deaths    N 2006-04-01         FR     France       0.0\n",
       "7963  Number of deaths    N 2006-05-01         FR     France       NaN"
      ]
     },
     "execution_count": 63,
     "metadata": {},
     "output_type": "execute_result"
    }
   ],
   "source": [
    "france.loc[deaths].head()"
   ]
  },
  {
   "cell_type": "code",
   "execution_count": 65,
   "metadata": {},
   "outputs": [
    {
     "data": {
      "text/html": [
       "<div>\n",
       "<style scoped>\n",
       "    .dataframe tbody tr th:only-of-type {\n",
       "        vertical-align: middle;\n",
       "    }\n",
       "\n",
       "    .dataframe tbody tr th {\n",
       "        vertical-align: top;\n",
       "    }\n",
       "\n",
       "    .dataframe thead th {\n",
       "        text-align: right;\n",
       "    }\n",
       "</style>\n",
       "<table border=\"1\" class=\"dataframe\">\n",
       "  <thead>\n",
       "    <tr style=\"text-align: right;\">\n",
       "      <th></th>\n",
       "      <th>indicator</th>\n",
       "      <th>unit</th>\n",
       "      <th>time</th>\n",
       "      <th>regioncode</th>\n",
       "      <th>regionname</th>\n",
       "      <th>numvalue</th>\n",
       "    </tr>\n",
       "  </thead>\n",
       "  <tbody>\n",
       "    <tr>\n",
       "      <th>14270</th>\n",
       "      <td>Reported cases</td>\n",
       "      <td>N</td>\n",
       "      <td>2006-01-01</td>\n",
       "      <td>FR</td>\n",
       "      <td>France</td>\n",
       "      <td>10.0</td>\n",
       "    </tr>\n",
       "    <tr>\n",
       "      <th>14300</th>\n",
       "      <td>Reported cases</td>\n",
       "      <td>N</td>\n",
       "      <td>2006-02-01</td>\n",
       "      <td>FR</td>\n",
       "      <td>France</td>\n",
       "      <td>6.0</td>\n",
       "    </tr>\n",
       "    <tr>\n",
       "      <th>14330</th>\n",
       "      <td>Reported cases</td>\n",
       "      <td>N</td>\n",
       "      <td>2006-03-01</td>\n",
       "      <td>FR</td>\n",
       "      <td>France</td>\n",
       "      <td>6.0</td>\n",
       "    </tr>\n",
       "    <tr>\n",
       "      <th>14360</th>\n",
       "      <td>Reported cases</td>\n",
       "      <td>N</td>\n",
       "      <td>2006-04-01</td>\n",
       "      <td>FR</td>\n",
       "      <td>France</td>\n",
       "      <td>3.0</td>\n",
       "    </tr>\n",
       "    <tr>\n",
       "      <th>14390</th>\n",
       "      <td>Reported cases</td>\n",
       "      <td>N</td>\n",
       "      <td>2006-05-01</td>\n",
       "      <td>FR</td>\n",
       "      <td>France</td>\n",
       "      <td>1.0</td>\n",
       "    </tr>\n",
       "  </tbody>\n",
       "</table>\n",
       "</div>"
      ],
      "text/plain": [
       "            indicator unit       time regioncode regionname  numvalue\n",
       "14270  Reported cases    N 2006-01-01         FR     France      10.0\n",
       "14300  Reported cases    N 2006-02-01         FR     France       6.0\n",
       "14330  Reported cases    N 2006-03-01         FR     France       6.0\n",
       "14360  Reported cases    N 2006-04-01         FR     France       3.0\n",
       "14390  Reported cases    N 2006-05-01         FR     France       1.0"
      ]
     },
     "execution_count": 65,
     "metadata": {},
     "output_type": "execute_result"
    }
   ],
   "source": [
    "france.loc[reported].head()"
   ]
  },
  {
   "cell_type": "code",
   "execution_count": 80,
   "metadata": {},
   "outputs": [
    {
     "data": {
      "text/html": [
       "<div>\n",
       "<style scoped>\n",
       "    .dataframe tbody tr th:only-of-type {\n",
       "        vertical-align: middle;\n",
       "    }\n",
       "\n",
       "    .dataframe tbody tr th {\n",
       "        vertical-align: top;\n",
       "    }\n",
       "\n",
       "    .dataframe thead th {\n",
       "        text-align: right;\n",
       "    }\n",
       "</style>\n",
       "<table border=\"1\" class=\"dataframe\">\n",
       "  <thead>\n",
       "    <tr style=\"text-align: right;\">\n",
       "      <th></th>\n",
       "      <th>indicator</th>\n",
       "      <th>unit</th>\n",
       "      <th>time</th>\n",
       "      <th>regioncode</th>\n",
       "      <th>regionname</th>\n",
       "      <th>numvalue</th>\n",
       "    </tr>\n",
       "  </thead>\n",
       "  <tbody>\n",
       "    <tr>\n",
       "      <th>20697</th>\n",
       "      <td>Reported confirmed cases</td>\n",
       "      <td>N</td>\n",
       "      <td>2006-01-01</td>\n",
       "      <td>FR</td>\n",
       "      <td>France</td>\n",
       "      <td>3.0</td>\n",
       "    </tr>\n",
       "    <tr>\n",
       "      <th>20727</th>\n",
       "      <td>Reported confirmed cases</td>\n",
       "      <td>N</td>\n",
       "      <td>2006-02-01</td>\n",
       "      <td>FR</td>\n",
       "      <td>France</td>\n",
       "      <td>3.0</td>\n",
       "    </tr>\n",
       "    <tr>\n",
       "      <th>20757</th>\n",
       "      <td>Reported confirmed cases</td>\n",
       "      <td>N</td>\n",
       "      <td>2006-03-01</td>\n",
       "      <td>FR</td>\n",
       "      <td>France</td>\n",
       "      <td>3.0</td>\n",
       "    </tr>\n",
       "    <tr>\n",
       "      <th>20787</th>\n",
       "      <td>Reported confirmed cases</td>\n",
       "      <td>N</td>\n",
       "      <td>2006-04-01</td>\n",
       "      <td>FR</td>\n",
       "      <td>France</td>\n",
       "      <td>1.0</td>\n",
       "    </tr>\n",
       "    <tr>\n",
       "      <th>20817</th>\n",
       "      <td>Reported confirmed cases</td>\n",
       "      <td>N</td>\n",
       "      <td>2006-05-01</td>\n",
       "      <td>FR</td>\n",
       "      <td>France</td>\n",
       "      <td>1.0</td>\n",
       "    </tr>\n",
       "  </tbody>\n",
       "</table>\n",
       "</div>"
      ],
      "text/plain": [
       "                      indicator unit       time regioncode regionname  \\\n",
       "20697  Reported confirmed cases    N 2006-01-01         FR     France   \n",
       "20727  Reported confirmed cases    N 2006-02-01         FR     France   \n",
       "20757  Reported confirmed cases    N 2006-03-01         FR     France   \n",
       "20787  Reported confirmed cases    N 2006-04-01         FR     France   \n",
       "20817  Reported confirmed cases    N 2006-05-01         FR     France   \n",
       "\n",
       "       numvalue  \n",
       "20697       3.0  \n",
       "20727       3.0  \n",
       "20757       3.0  \n",
       "20787       1.0  \n",
       "20817       1.0  "
      ]
     },
     "execution_count": 80,
     "metadata": {},
     "output_type": "execute_result"
    }
   ],
   "source": [
    "france.loc[confirmed].head()"
   ]
  },
  {
   "cell_type": "code",
   "execution_count": 67,
   "metadata": {},
   "outputs": [
    {
     "data": {
      "text/html": [
       "<div>\n",
       "<style scoped>\n",
       "    .dataframe tbody tr th:only-of-type {\n",
       "        vertical-align: middle;\n",
       "    }\n",
       "\n",
       "    .dataframe tbody tr th {\n",
       "        vertical-align: top;\n",
       "    }\n",
       "\n",
       "    .dataframe thead th {\n",
       "        text-align: right;\n",
       "    }\n",
       "</style>\n",
       "<table border=\"1\" class=\"dataframe\">\n",
       "  <thead>\n",
       "    <tr style=\"text-align: right;\">\n",
       "      <th></th>\n",
       "      <th>indicator</th>\n",
       "      <th>unit</th>\n",
       "      <th>time</th>\n",
       "      <th>regioncode</th>\n",
       "      <th>regionname</th>\n",
       "      <th>numvalue</th>\n",
       "    </tr>\n",
       "  </thead>\n",
       "  <tbody>\n",
       "    <tr>\n",
       "      <th>25720</th>\n",
       "      <td>Vaccination coverage first dose</td>\n",
       "      <td>%</td>\n",
       "      <td>1999-01-01</td>\n",
       "      <td>FR</td>\n",
       "      <td>France</td>\n",
       "      <td>83.0</td>\n",
       "    </tr>\n",
       "    <tr>\n",
       "      <th>25751</th>\n",
       "      <td>Vaccination coverage first dose</td>\n",
       "      <td>%</td>\n",
       "      <td>2000-01-01</td>\n",
       "      <td>FR</td>\n",
       "      <td>France</td>\n",
       "      <td>84.0</td>\n",
       "    </tr>\n",
       "    <tr>\n",
       "      <th>25782</th>\n",
       "      <td>Vaccination coverage first dose</td>\n",
       "      <td>%</td>\n",
       "      <td>2001-01-01</td>\n",
       "      <td>FR</td>\n",
       "      <td>France</td>\n",
       "      <td>85.0</td>\n",
       "    </tr>\n",
       "    <tr>\n",
       "      <th>25813</th>\n",
       "      <td>Vaccination coverage first dose</td>\n",
       "      <td>%</td>\n",
       "      <td>2002-01-01</td>\n",
       "      <td>FR</td>\n",
       "      <td>France</td>\n",
       "      <td>86.0</td>\n",
       "    </tr>\n",
       "    <tr>\n",
       "      <th>25844</th>\n",
       "      <td>Vaccination coverage first dose</td>\n",
       "      <td>%</td>\n",
       "      <td>2003-01-01</td>\n",
       "      <td>FR</td>\n",
       "      <td>France</td>\n",
       "      <td>87.0</td>\n",
       "    </tr>\n",
       "  </tbody>\n",
       "</table>\n",
       "</div>"
      ],
      "text/plain": [
       "                             indicator unit       time regioncode regionname  \\\n",
       "25720  Vaccination coverage first dose    % 1999-01-01         FR     France   \n",
       "25751  Vaccination coverage first dose    % 2000-01-01         FR     France   \n",
       "25782  Vaccination coverage first dose    % 2001-01-01         FR     France   \n",
       "25813  Vaccination coverage first dose    % 2002-01-01         FR     France   \n",
       "25844  Vaccination coverage first dose    % 2003-01-01         FR     France   \n",
       "\n",
       "       numvalue  \n",
       "25720      83.0  \n",
       "25751      84.0  \n",
       "25782      85.0  \n",
       "25813      86.0  \n",
       "25844      87.0  "
      ]
     },
     "execution_count": 67,
     "metadata": {},
     "output_type": "execute_result"
    }
   ],
   "source": [
    "france.loc[vaccine_1].head()"
   ]
  },
  {
   "cell_type": "code",
   "execution_count": 68,
   "metadata": {},
   "outputs": [
    {
     "data": {
      "text/html": [
       "<div>\n",
       "<style scoped>\n",
       "    .dataframe tbody tr th:only-of-type {\n",
       "        vertical-align: middle;\n",
       "    }\n",
       "\n",
       "    .dataframe tbody tr th {\n",
       "        vertical-align: top;\n",
       "    }\n",
       "\n",
       "    .dataframe thead th {\n",
       "        text-align: right;\n",
       "    }\n",
       "</style>\n",
       "<table border=\"1\" class=\"dataframe\">\n",
       "  <thead>\n",
       "    <tr style=\"text-align: right;\">\n",
       "      <th></th>\n",
       "      <th>indicator</th>\n",
       "      <th>unit</th>\n",
       "      <th>time</th>\n",
       "      <th>regioncode</th>\n",
       "      <th>regionname</th>\n",
       "      <th>numvalue</th>\n",
       "    </tr>\n",
       "  </thead>\n",
       "  <tbody>\n",
       "    <tr>\n",
       "      <th>26571</th>\n",
       "      <td>Vaccination coverage second dose</td>\n",
       "      <td>%</td>\n",
       "      <td>2010-01-01</td>\n",
       "      <td>FR</td>\n",
       "      <td>France</td>\n",
       "      <td>61.0</td>\n",
       "    </tr>\n",
       "    <tr>\n",
       "      <th>26598</th>\n",
       "      <td>Vaccination coverage second dose</td>\n",
       "      <td>%</td>\n",
       "      <td>2011-01-01</td>\n",
       "      <td>FR</td>\n",
       "      <td>France</td>\n",
       "      <td>67.0</td>\n",
       "    </tr>\n",
       "    <tr>\n",
       "      <th>26625</th>\n",
       "      <td>Vaccination coverage second dose</td>\n",
       "      <td>%</td>\n",
       "      <td>2012-01-01</td>\n",
       "      <td>FR</td>\n",
       "      <td>France</td>\n",
       "      <td>72.0</td>\n",
       "    </tr>\n",
       "    <tr>\n",
       "      <th>26653</th>\n",
       "      <td>Vaccination coverage second dose</td>\n",
       "      <td>%</td>\n",
       "      <td>2013-01-01</td>\n",
       "      <td>FR</td>\n",
       "      <td>France</td>\n",
       "      <td>75.0</td>\n",
       "    </tr>\n",
       "    <tr>\n",
       "      <th>26682</th>\n",
       "      <td>Vaccination coverage second dose</td>\n",
       "      <td>%</td>\n",
       "      <td>2014-01-01</td>\n",
       "      <td>FR</td>\n",
       "      <td>France</td>\n",
       "      <td>77.0</td>\n",
       "    </tr>\n",
       "  </tbody>\n",
       "</table>\n",
       "</div>"
      ],
      "text/plain": [
       "                              indicator unit       time regioncode regionname  \\\n",
       "26571  Vaccination coverage second dose    % 2010-01-01         FR     France   \n",
       "26598  Vaccination coverage second dose    % 2011-01-01         FR     France   \n",
       "26625  Vaccination coverage second dose    % 2012-01-01         FR     France   \n",
       "26653  Vaccination coverage second dose    % 2013-01-01         FR     France   \n",
       "26682  Vaccination coverage second dose    % 2014-01-01         FR     France   \n",
       "\n",
       "       numvalue  \n",
       "26571      61.0  \n",
       "26598      67.0  \n",
       "26625      72.0  \n",
       "26653      75.0  \n",
       "26682      77.0  "
      ]
     },
     "execution_count": 68,
     "metadata": {},
     "output_type": "execute_result"
    }
   ],
   "source": [
    "france.loc[vaccine_2].head()"
   ]
  },
  {
   "cell_type": "code",
   "execution_count": 101,
   "metadata": {},
   "outputs": [
    {
     "data": {
      "image/png": "[encoded data removed]",
      "text/plain": [
       "<Figure size 1080x576 with 1 Axes>"
      ]
     },
     "metadata": {
      "needs_background": "light"
     },
     "output_type": "display_data"
    }
   ],
   "source": [
    "plt.figure(figsize=(15,8))\n",
    "plt.plot(france.loc[indicator]['time'], france.loc[indicator]['numvalue'])\n",
    "plt.title(\"Notification rate\", fontsize= 20);"
   ]
  },
  {
   "cell_type": "code",
   "execution_count": 102,
   "metadata": {},
   "outputs": [
    {
     "data": {
      "image/png": "[encoded data removed]",
      "text/plain": [
       "<Figure size 1080x576 with 1 Axes>"
      ]
     },
     "metadata": {
      "needs_background": "light"
     },
     "output_type": "display_data"
    }
   ],
   "source": [
    "plt.figure(figsize=(15,8))\n",
    "plt.plot(france.loc[deaths]['time'], france.loc[deaths]['numvalue'], label= 'number of deaths', color='red')\n",
    "plt.plot(france.loc[reported]['time'], france.loc[reported]['numvalue'], label= 'number of reported cases', color='orange')\n",
    "plt.plot(france.loc[confirmed]['time'], france.loc[confirmed]['numvalue'], label= 'number of confirmed cases', color='green')\n",
    "plt.title(\"Number of cases\", fontsize=20)\n",
    "plt.legend();"
   ]
  },
  {
   "cell_type": "code",
   "execution_count": 110,
   "metadata": {},
   "outputs": [
    {
     "data": {
      "text/plain": [
       "[<matplotlib.lines.Line2D at 0x1a27caf550>]"
      ]
     },
     "execution_count": 110,
     "metadata": {},
     "output_type": "execute_result"
    },
    {
     "data": {
      "image/png": "[encoded data removed]",
      "text/plain": [
       "<Figure size 1080x576 with 1 Axes>"
      ]
     },
     "metadata": {
      "needs_background": "light"
     },
     "output_type": "display_data"
    }
   ],
   "source": [
    "plt.figure(figsize=(15,8))\n",
    "plt.plot(france.loc[vaccine_1]['time'], france.loc[vaccine_1]['numvalue'], label= 'First Vaccination in %', color='red')\n",
    "# plt.plot(france.loc[vaccine_2]['time'], france.loc[vaccine_2]['numvalue'], label= 'Second Vaccination in %', color='green');"
   ]
  },
  {
   "cell_type": "code",
   "execution_count": 112,
   "metadata": {},
   "outputs": [
    {
     "data": {
      "text/html": [
       "<div>\n",
       "<style scoped>\n",
       "    .dataframe tbody tr th:only-of-type {\n",
       "        vertical-align: middle;\n",
       "    }\n",
       "\n",
       "    .dataframe tbody tr th {\n",
       "        vertical-align: top;\n",
       "    }\n",
       "\n",
       "    .dataframe thead th {\n",
       "        text-align: right;\n",
       "    }\n",
       "</style>\n",
       "<table border=\"1\" class=\"dataframe\">\n",
       "  <thead>\n",
       "    <tr style=\"text-align: right;\">\n",
       "      <th></th>\n",
       "      <th>indicator</th>\n",
       "      <th>unit</th>\n",
       "      <th>time</th>\n",
       "      <th>regioncode</th>\n",
       "      <th>regionname</th>\n",
       "      <th>numvalue</th>\n",
       "    </tr>\n",
       "  </thead>\n",
       "  <tbody>\n",
       "    <tr>\n",
       "      <th>25720</th>\n",
       "      <td>Vaccination coverage first dose</td>\n",
       "      <td>%</td>\n",
       "      <td>1999-01-01</td>\n",
       "      <td>FR</td>\n",
       "      <td>France</td>\n",
       "      <td>83.0</td>\n",
       "    </tr>\n",
       "    <tr>\n",
       "      <th>25751</th>\n",
       "      <td>Vaccination coverage first dose</td>\n",
       "      <td>%</td>\n",
       "      <td>2000-01-01</td>\n",
       "      <td>FR</td>\n",
       "      <td>France</td>\n",
       "      <td>84.0</td>\n",
       "    </tr>\n",
       "    <tr>\n",
       "      <th>25782</th>\n",
       "      <td>Vaccination coverage first dose</td>\n",
       "      <td>%</td>\n",
       "      <td>2001-01-01</td>\n",
       "      <td>FR</td>\n",
       "      <td>France</td>\n",
       "      <td>85.0</td>\n",
       "    </tr>\n",
       "    <tr>\n",
       "      <th>25813</th>\n",
       "      <td>Vaccination coverage first dose</td>\n",
       "      <td>%</td>\n",
       "      <td>2002-01-01</td>\n",
       "      <td>FR</td>\n",
       "      <td>France</td>\n",
       "      <td>86.0</td>\n",
       "    </tr>\n",
       "    <tr>\n",
       "      <th>25844</th>\n",
       "      <td>Vaccination coverage first dose</td>\n",
       "      <td>%</td>\n",
       "      <td>2003-01-01</td>\n",
       "      <td>FR</td>\n",
       "      <td>France</td>\n",
       "      <td>87.0</td>\n",
       "    </tr>\n",
       "    <tr>\n",
       "      <th>25875</th>\n",
       "      <td>Vaccination coverage first dose</td>\n",
       "      <td>%</td>\n",
       "      <td>2004-01-01</td>\n",
       "      <td>FR</td>\n",
       "      <td>France</td>\n",
       "      <td>88.0</td>\n",
       "    </tr>\n",
       "    <tr>\n",
       "      <th>25906</th>\n",
       "      <td>Vaccination coverage first dose</td>\n",
       "      <td>%</td>\n",
       "      <td>2005-01-01</td>\n",
       "      <td>FR</td>\n",
       "      <td>France</td>\n",
       "      <td>87.0</td>\n",
       "    </tr>\n",
       "    <tr>\n",
       "      <th>25937</th>\n",
       "      <td>Vaccination coverage first dose</td>\n",
       "      <td>%</td>\n",
       "      <td>2006-01-01</td>\n",
       "      <td>FR</td>\n",
       "      <td>France</td>\n",
       "      <td>89.0</td>\n",
       "    </tr>\n",
       "    <tr>\n",
       "      <th>25968</th>\n",
       "      <td>Vaccination coverage first dose</td>\n",
       "      <td>%</td>\n",
       "      <td>2007-01-01</td>\n",
       "      <td>FR</td>\n",
       "      <td>France</td>\n",
       "      <td>90.0</td>\n",
       "    </tr>\n",
       "    <tr>\n",
       "      <th>25999</th>\n",
       "      <td>Vaccination coverage first dose</td>\n",
       "      <td>%</td>\n",
       "      <td>2008-01-01</td>\n",
       "      <td>FR</td>\n",
       "      <td>France</td>\n",
       "      <td>89.0</td>\n",
       "    </tr>\n",
       "    <tr>\n",
       "      <th>26030</th>\n",
       "      <td>Vaccination coverage first dose</td>\n",
       "      <td>%</td>\n",
       "      <td>2009-01-01</td>\n",
       "      <td>FR</td>\n",
       "      <td>France</td>\n",
       "      <td>89.0</td>\n",
       "    </tr>\n",
       "    <tr>\n",
       "      <th>26061</th>\n",
       "      <td>Vaccination coverage first dose</td>\n",
       "      <td>%</td>\n",
       "      <td>2010-01-01</td>\n",
       "      <td>FR</td>\n",
       "      <td>France</td>\n",
       "      <td>89.0</td>\n",
       "    </tr>\n",
       "    <tr>\n",
       "      <th>26092</th>\n",
       "      <td>Vaccination coverage first dose</td>\n",
       "      <td>%</td>\n",
       "      <td>2011-01-01</td>\n",
       "      <td>FR</td>\n",
       "      <td>France</td>\n",
       "      <td>89.0</td>\n",
       "    </tr>\n",
       "    <tr>\n",
       "      <th>26123</th>\n",
       "      <td>Vaccination coverage first dose</td>\n",
       "      <td>%</td>\n",
       "      <td>2012-01-01</td>\n",
       "      <td>FR</td>\n",
       "      <td>France</td>\n",
       "      <td>91.0</td>\n",
       "    </tr>\n",
       "    <tr>\n",
       "      <th>26154</th>\n",
       "      <td>Vaccination coverage first dose</td>\n",
       "      <td>%</td>\n",
       "      <td>2013-01-01</td>\n",
       "      <td>FR</td>\n",
       "      <td>France</td>\n",
       "      <td>90.0</td>\n",
       "    </tr>\n",
       "    <tr>\n",
       "      <th>26185</th>\n",
       "      <td>Vaccination coverage first dose</td>\n",
       "      <td>%</td>\n",
       "      <td>2014-01-01</td>\n",
       "      <td>FR</td>\n",
       "      <td>France</td>\n",
       "      <td>91.0</td>\n",
       "    </tr>\n",
       "    <tr>\n",
       "      <th>26216</th>\n",
       "      <td>Vaccination coverage first dose</td>\n",
       "      <td>%</td>\n",
       "      <td>2015-01-01</td>\n",
       "      <td>FR</td>\n",
       "      <td>France</td>\n",
       "      <td>91.0</td>\n",
       "    </tr>\n",
       "    <tr>\n",
       "      <th>26247</th>\n",
       "      <td>Vaccination coverage first dose</td>\n",
       "      <td>%</td>\n",
       "      <td>2016-01-01</td>\n",
       "      <td>FR</td>\n",
       "      <td>France</td>\n",
       "      <td>90.0</td>\n",
       "    </tr>\n",
       "    <tr>\n",
       "      <th>26278</th>\n",
       "      <td>Vaccination coverage first dose</td>\n",
       "      <td>%</td>\n",
       "      <td>2017-01-01</td>\n",
       "      <td>FR</td>\n",
       "      <td>France</td>\n",
       "      <td>90.0</td>\n",
       "    </tr>\n",
       "    <tr>\n",
       "      <th>26309</th>\n",
       "      <td>Vaccination coverage first dose</td>\n",
       "      <td>%</td>\n",
       "      <td>2018-01-01</td>\n",
       "      <td>FR</td>\n",
       "      <td>France</td>\n",
       "      <td>90.0</td>\n",
       "    </tr>\n",
       "  </tbody>\n",
       "</table>\n",
       "</div>"
      ],
      "text/plain": [
       "                             indicator unit       time regioncode regionname  \\\n",
       "25720  Vaccination coverage first dose    % 1999-01-01         FR     France   \n",
       "25751  Vaccination coverage first dose    % 2000-01-01         FR     France   \n",
       "25782  Vaccination coverage first dose    % 2001-01-01         FR     France   \n",
       "25813  Vaccination coverage first dose    % 2002-01-01         FR     France   \n",
       "25844  Vaccination coverage first dose    % 2003-01-01         FR     France   \n",
       "25875  Vaccination coverage first dose    % 2004-01-01         FR     France   \n",
       "25906  Vaccination coverage first dose    % 2005-01-01         FR     France   \n",
       "25937  Vaccination coverage first dose    % 2006-01-01         FR     France   \n",
       "25968  Vaccination coverage first dose    % 2007-01-01         FR     France   \n",
       "25999  Vaccination coverage first dose    % 2008-01-01         FR     France   \n",
       "26030  Vaccination coverage first dose    % 2009-01-01         FR     France   \n",
       "26061  Vaccination coverage first dose    % 2010-01-01         FR     France   \n",
       "26092  Vaccination coverage first dose    % 2011-01-01         FR     France   \n",
       "26123  Vaccination coverage first dose    % 2012-01-01         FR     France   \n",
       "26154  Vaccination coverage first dose    % 2013-01-01         FR     France   \n",
       "26185  Vaccination coverage first dose    % 2014-01-01         FR     France   \n",
       "26216  Vaccination coverage first dose    % 2015-01-01         FR     France   \n",
       "26247  Vaccination coverage first dose    % 2016-01-01         FR     France   \n",
       "26278  Vaccination coverage first dose    % 2017-01-01         FR     France   \n",
       "26309  Vaccination coverage first dose    % 2018-01-01         FR     France   \n",
       "\n",
       "       numvalue  \n",
       "25720      83.0  \n",
       "25751      84.0  \n",
       "25782      85.0  \n",
       "25813      86.0  \n",
       "25844      87.0  \n",
       "25875      88.0  \n",
       "25906      87.0  \n",
       "25937      89.0  \n",
       "25968      90.0  \n",
       "25999      89.0  \n",
       "26030      89.0  \n",
       "26061      89.0  \n",
       "26092      89.0  \n",
       "26123      91.0  \n",
       "26154      90.0  \n",
       "26185      91.0  \n",
       "26216      91.0  \n",
       "26247      90.0  \n",
       "26278      90.0  \n",
       "26309      90.0  "
      ]
     },
     "execution_count": 112,
     "metadata": {},
     "output_type": "execute_result"
    }
   ],
   "source": [
    "france.loc[vaccine_1]"
   ]
  },
  {
   "cell_type": "markdown",
   "metadata": {},
   "source": [
    "### Austria"
   ]
  },
  {
   "cell_type": "code",
   "execution_count": 119,
   "metadata": {},
   "outputs": [],
   "source": [
    "austria = outbreak[outbreak['regionname'] == \"Austria\"]"
   ]
  },
  {
   "cell_type": "code",
   "execution_count": 121,
   "metadata": {},
   "outputs": [
    {
     "data": {
      "image/png": "[encoded data removed]",
      "text/plain": [
       "<Figure size 1080x576 with 1 Axes>"
      ]
     },
     "metadata": {
      "needs_background": "light"
     },
     "output_type": "display_data"
    }
   ],
   "source": [
    "plt.figure(figsize=(15,8))\n",
    "plt.plot(austria.loc[indicator]['time'], austria.loc[indicator]['numvalue'])\n",
    "plt.title(\"Notification rate\", fontsize= 20);"
   ]
  },
  {
   "cell_type": "code",
   "execution_count": 122,
   "metadata": {},
   "outputs": [
    {
     "data": {
      "image/png": "[encoded data removed]",
      "text/plain": [
       "<Figure size 1080x576 with 1 Axes>"
      ]
     },
     "metadata": {
      "needs_background": "light"
     },
     "output_type": "display_data"
    }
   ],
   "source": [
    "plt.figure(figsize=(15,8))\n",
    "plt.plot(austria.loc[deaths]['time'], austria.loc[deaths]['numvalue'], label= 'number of deaths', color='red')\n",
    "plt.plot(austria.loc[reported]['time'], austria.loc[reported]['numvalue'], label= 'number of reported cases', color='orange')\n",
    "plt.plot(austria.loc[confirmed]['time'], austria.loc[confirmed]['numvalue'], label= 'number of confirmed cases', color='green')\n",
    "plt.title(\"Number of cases\", fontsize=20)\n",
    "plt.legend();"
   ]
  },
  {
   "cell_type": "code",
   "execution_count": 125,
   "metadata": {},
   "outputs": [
    {
     "data": {
      "text/plain": [
       "[<matplotlib.lines.Line2D at 0x1a299644d0>]"
      ]
     },
     "execution_count": 125,
     "metadata": {},
     "output_type": "execute_result"
    },
    {
     "data": {
      "image/png": "[encoded data removed]",
      "text/plain": [
       "<Figure size 1080x576 with 1 Axes>"
      ]
     },
     "metadata": {
      "needs_background": "light"
     },
     "output_type": "display_data"
    }
   ],
   "source": [
    "plt.figure(figsize=(15,8))\n",
    "plt.plot(austria.loc[vaccine_1]['time'], austria.loc[vaccine_1]['numvalue'], label= 'First Vaccination in %', color='red')\n",
    "# plt.plot(austria.loc[vaccine_2]['time'], austria.loc[vaccine_2]['numvalue'], label= 'Second Vaccination in %', color='green');"
   ]
  },
  {
   "cell_type": "code",
   "execution_count": null,
   "metadata": {},
   "outputs": [],
   "source": []
  }
 ],
 "metadata": {
  "kernelspec": {
   "display_name": "Python 3",
   "language": "python",
   "name": "python3"
  },
  "language_info": {
   "codemirror_mode": {
    "name": "ipython",
    "version": 3
   },
   "file_extension": ".py",
   "mimetype": "text/x-python",
   "name": "python",
   "nbconvert_exporter": "python",
   "pygments_lexer": "ipython3",
   "version": "3.7.5"
  }
 },
 "nbformat": 4,
 "nbformat_minor": 4
}
