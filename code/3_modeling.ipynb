{
 "cells": [
  {
   "cell_type": "markdown",
   "metadata": {},
   "source": [
    "# Measles Outbreaks In European Countries \n",
    "\n",
    "## Modeling\n",
    "---\n",
    "\n",
    "_Author: Preeya Sawadmanod_\n",
    "\n",
    "Before we can start Modeling with our data, we need to prepare our data first. This can be done by creating a new data frame to obtain datasets only from our target country, Germany. Additionally, we also need to change our vaccination records from percentage to the amount of people who are vaccinated and imputing the values from yearly into monthly results. After pre-processing the datasets we are going to run multiple time series models such as ARIMA model, SARIMA model and SARIMAX model. The results of modeling and evaluation can be found in this notebook."
   ]
  },
  {
   "cell_type": "markdown",
   "metadata": {},
   "source": [
    "### Table of content\n",
    "---\n",
    "\n",
    "- [Import Packages](#Import-Packages)\n",
    "- [Preprocessing](#Preprocessing)\n",
    "    - [New data frame](#New-data-frame) \n",
    "    - [New columns](#New-columns)\n",
    "    - [Vaccination records](#Vaccination-records)  \n",
    "        - [Population in Germany](#Population-in-Germany)\n",
    "        - [First Dosage of vaccination](#First-Dosage-of-vaccination)\n",
    "        - [Second Dosage of vaccination](#Second-Dosage-of-vaccination)\n",
    "        - [Calculation of vaccination rate](#Calculation-of-vaccination-rate)\n",
    "        - [Monthly vaccination rate](#Monthly-vaccination-rate)\n",
    "- [ARIMA Model](#ARIMA-Model)\n",
    "    - [Differencing Parameter](#Differencing-Parameter)\n",
    "    - [Autoregressive Parameter](#Autoregressive-Parameter)\n",
    "    - [Moving Average Parameter](#Moving-Average-Parameter)\n",
    "- [SARIMAX Model](#SARIMAX-Model)\n",
    "- [Evaluation](#Evaluation)\n",
    "        \n",
    "    "
   ]
  },
  {
   "cell_type": "markdown",
   "metadata": {},
   "source": [
    "### Import Packages "
   ]
  },
  {
   "cell_type": "code",
   "execution_count": 2,
   "metadata": {},
   "outputs": [],
   "source": [
    "#Import packages \n",
    "import pandas    as pd \n",
    "import numpy     as np\n",
    "from datetime    import datetime\n",
    "\n",
    "#Import Visualization tools \n",
    "import matplotlib.pyplot as plt\n",
    "%matplotlib inline\n",
    "\n",
    "#Import Skit-learn tools \n",
    "from sklearn.model_selection       import train_test_split\n",
    "from sklearn.metrics               import mean_squared_error\n",
    "\n",
    "#Import Statsmodel tools \n",
    "import statsmodels.api                    as sm\n",
    "from statsmodels.graphics.tsaplots        import plot_acf, plot_pacf\n",
    "from statsmodels.tsa.stattools            import adfuller\n",
    "from statsmodels.tsa.statespace.sarimax   import SARIMAX\n",
    "from statsmodels.tsa.arima_model          import ARIMA\n",
    "\n",
    "#Import miscellaneous\n",
    "import warnings\n",
    "warnings.simplefilter(action='ignore', category=FutureWarning)\n",
    "from pandas.plotting import register_matplotlib_converters\n",
    "register_matplotlib_converters()"
   ]
  },
  {
   "cell_type": "markdown",
   "metadata": {},
   "source": [
    "### Preprocessing\n",
    "\n",
    "In preprocessing we are going to use our raw data and transform it into an understandable format in order for us to use this data for Modeling."
   ]
  },
  {
   "cell_type": "code",
   "execution_count": 3,
   "metadata": {},
   "outputs": [
    {
     "data": {
      "text/html": [
       "<div>\n",
       "<style scoped>\n",
       "    .dataframe tbody tr th:only-of-type {\n",
       "        vertical-align: middle;\n",
       "    }\n",
       "\n",
       "    .dataframe tbody tr th {\n",
       "        vertical-align: top;\n",
       "    }\n",
       "\n",
       "    .dataframe thead th {\n",
       "        text-align: right;\n",
       "    }\n",
       "</style>\n",
       "<table border=\"1\" class=\"dataframe\">\n",
       "  <thead>\n",
       "    <tr style=\"text-align: right;\">\n",
       "      <th></th>\n",
       "      <th>indicator</th>\n",
       "      <th>unit</th>\n",
       "      <th>time</th>\n",
       "      <th>regioncode</th>\n",
       "      <th>regionname</th>\n",
       "      <th>numvalue</th>\n",
       "    </tr>\n",
       "  </thead>\n",
       "  <tbody>\n",
       "    <tr>\n",
       "      <th>0</th>\n",
       "      <td>Notification rate</td>\n",
       "      <td>N/1000000</td>\n",
       "      <td>1999-01-01</td>\n",
       "      <td>AT</td>\n",
       "      <td>Austria</td>\n",
       "      <td>250549.29</td>\n",
       "    </tr>\n",
       "    <tr>\n",
       "      <th>1</th>\n",
       "      <td>Notification rate</td>\n",
       "      <td>N/1000000</td>\n",
       "      <td>1999-01-01</td>\n",
       "      <td>DK</td>\n",
       "      <td>Denmark</td>\n",
       "      <td>188197.14</td>\n",
       "    </tr>\n",
       "    <tr>\n",
       "      <th>2</th>\n",
       "      <td>Notification rate</td>\n",
       "      <td>N/1000000</td>\n",
       "      <td>1999-01-01</td>\n",
       "      <td>EL</td>\n",
       "      <td>Greece</td>\n",
       "      <td>1581723.75</td>\n",
       "    </tr>\n",
       "    <tr>\n",
       "      <th>3</th>\n",
       "      <td>Notification rate</td>\n",
       "      <td>N/1000000</td>\n",
       "      <td>1999-01-01</td>\n",
       "      <td>FI</td>\n",
       "      <td>Finland</td>\n",
       "      <td>0.00</td>\n",
       "    </tr>\n",
       "    <tr>\n",
       "      <th>4</th>\n",
       "      <td>Notification rate</td>\n",
       "      <td>N/1000000</td>\n",
       "      <td>1999-01-01</td>\n",
       "      <td>IE</td>\n",
       "      <td>Ireland</td>\n",
       "      <td>1875666.86</td>\n",
       "    </tr>\n",
       "  </tbody>\n",
       "</table>\n",
       "</div>"
      ],
      "text/plain": [
       "            indicator       unit       time regioncode regionname    numvalue\n",
       "0  Notification rate   N/1000000 1999-01-01         AT    Austria   250549.29\n",
       "1  Notification rate   N/1000000 1999-01-01         DK    Denmark   188197.14\n",
       "2  Notification rate   N/1000000 1999-01-01         EL     Greece  1581723.75\n",
       "3  Notification rate   N/1000000 1999-01-01         FI    Finland        0.00\n",
       "4  Notification rate   N/1000000 1999-01-01         IE    Ireland  1875666.86"
      ]
     },
     "execution_count": 3,
     "metadata": {},
     "output_type": "execute_result"
    }
   ],
   "source": [
    "#Reading in data set \n",
    "outbreak = pd.read_csv('../data/measles.csv')\n",
    "\n",
    "#Converting time column into date time object\n",
    "outbreak['time'] = pd.to_datetime(outbreak['time'])\n",
    "outbreak.head()"
   ]
  },
  {
   "cell_type": "code",
   "execution_count": 4,
   "metadata": {},
   "outputs": [
    {
     "name": "stdout",
     "output_type": "stream",
     "text": [
      "The indicators in the data set are the followings: \n",
      "\n",
      "Notification rate \n",
      "Number of deaths\n",
      "Reported cases\n",
      "Reported confirmed cases\n",
      "Vaccination coverage first dose\n",
      "Vaccination coverage second dose\n"
     ]
    }
   ],
   "source": [
    "print(\"The indicators in the data set are the followings: \\n\")\n",
    "for indicator in outbreak['indicator'].unique(): \n",
    "    print(indicator)"
   ]
  },
  {
   "cell_type": "markdown",
   "metadata": {},
   "source": [
    "We are going to use `Reported confirmed cases` as our target variable and `Reported cases`, `Vaccination first and second dosage` and `Population for Non-vaccinated` as our features in predicting our target variable in our time series model. In order to utilize our data we need to create new data frames by filtering and creating new columns with these indicator and setting the time as index. "
   ]
  },
  {
   "cell_type": "markdown",
   "metadata": {},
   "source": [
    "#### New data frame"
   ]
  },
  {
   "cell_type": "markdown",
   "metadata": {},
   "source": [
    "Filtering through target country for predictions"
   ]
  },
  {
   "cell_type": "code",
   "execution_count": 5,
   "metadata": {},
   "outputs": [],
   "source": [
    "target_country = 'Germany'"
   ]
  },
  {
   "cell_type": "markdown",
   "metadata": {},
   "source": [
    "Germany's data set during EDA has shown trends and seasonality, and seemed to be the best suited country for creating a time series models predicting measles outbreaks. "
   ]
  },
  {
   "cell_type": "code",
   "execution_count": 6,
   "metadata": {},
   "outputs": [
    {
     "data": {
      "text/html": [
       "<div>\n",
       "<style scoped>\n",
       "    .dataframe tbody tr th:only-of-type {\n",
       "        vertical-align: middle;\n",
       "    }\n",
       "\n",
       "    .dataframe tbody tr th {\n",
       "        vertical-align: top;\n",
       "    }\n",
       "\n",
       "    .dataframe thead th {\n",
       "        text-align: right;\n",
       "    }\n",
       "</style>\n",
       "<table border=\"1\" class=\"dataframe\">\n",
       "  <thead>\n",
       "    <tr style=\"text-align: right;\">\n",
       "      <th></th>\n",
       "      <th>indicator</th>\n",
       "      <th>time</th>\n",
       "      <th>numvalue</th>\n",
       "    </tr>\n",
       "  </thead>\n",
       "  <tbody>\n",
       "    <tr>\n",
       "      <th>240</th>\n",
       "      <td>Notification rate</td>\n",
       "      <td>2001-01-01</td>\n",
       "      <td>2674461.83</td>\n",
       "    </tr>\n",
       "    <tr>\n",
       "      <th>254</th>\n",
       "      <td>Notification rate</td>\n",
       "      <td>2001-02-01</td>\n",
       "      <td>5166573.99</td>\n",
       "    </tr>\n",
       "    <tr>\n",
       "      <th>268</th>\n",
       "      <td>Notification rate</td>\n",
       "      <td>2001-03-01</td>\n",
       "      <td>11877041.86</td>\n",
       "    </tr>\n",
       "    <tr>\n",
       "      <th>282</th>\n",
       "      <td>Notification rate</td>\n",
       "      <td>2001-04-01</td>\n",
       "      <td>15998144.40</td>\n",
       "    </tr>\n",
       "    <tr>\n",
       "      <th>296</th>\n",
       "      <td>Notification rate</td>\n",
       "      <td>2001-05-01</td>\n",
       "      <td>12825260.14</td>\n",
       "    </tr>\n",
       "  </tbody>\n",
       "</table>\n",
       "</div>"
      ],
      "text/plain": [
       "              indicator       time     numvalue\n",
       "240  Notification rate  2001-01-01   2674461.83\n",
       "254  Notification rate  2001-02-01   5166573.99\n",
       "268  Notification rate  2001-03-01  11877041.86\n",
       "282  Notification rate  2001-04-01  15998144.40\n",
       "296  Notification rate  2001-05-01  12825260.14"
      ]
     },
     "execution_count": 6,
     "metadata": {},
     "output_type": "execute_result"
    }
   ],
   "source": [
    "#Creating a copy of data frame and filerting through regionname to obtain target country \n",
    "germany = outbreak.loc[outbreak['regionname'] == target_country].copy()\n",
    "\n",
    "#Dropping columns that are not needed anymore \n",
    "germany.drop(columns=['unit', 'regioncode', 'regionname'], inplace=True)\n",
    "germany.head()"
   ]
  },
  {
   "cell_type": "markdown",
   "metadata": {},
   "source": [
    "#### New columns "
   ]
  },
  {
   "cell_type": "markdown",
   "metadata": {},
   "source": [
    "##### Reported cases"
   ]
  },
  {
   "cell_type": "markdown",
   "metadata": {},
   "source": [
    "We are going to filter through our data frame to isolate `reported cases` from Germany. Additionally, we need to check if Timestamps are unique, which can then be set as the Index."
   ]
  },
  {
   "cell_type": "code",
   "execution_count": 7,
   "metadata": {},
   "outputs": [
    {
     "name": "stdout",
     "output_type": "stream",
     "text": [
      "True\n"
     ]
    }
   ],
   "source": [
    "#Filtering through Germany data frame to obtain reported cases\n",
    "reported = germany.loc[germany['indicator'] == 'Reported cases'].copy()\n",
    "\n",
    "#Checking if `time` column is unique, so it can be set as `index` column \n",
    "print(reported['time'].nunique() == reported.shape[0])"
   ]
  },
  {
   "cell_type": "code",
   "execution_count": 8,
   "metadata": {},
   "outputs": [],
   "source": [
    "#Setting time as index \n",
    "reported.set_index('time', inplace=True)\n",
    "\n",
    "#Dropping columns that are not needed \n",
    "reported.drop(columns=['indicator'], inplace=True)"
   ]
  },
  {
   "cell_type": "markdown",
   "metadata": {},
   "source": [
    "##### Confirmed reported cases"
   ]
  },
  {
   "cell_type": "markdown",
   "metadata": {},
   "source": [
    "We are going to repeat the same process as previously done with `Reported cases` to `Confirmed reported cases`"
   ]
  },
  {
   "cell_type": "code",
   "execution_count": 9,
   "metadata": {},
   "outputs": [],
   "source": [
    "#Filtering through indicator to get confirmed cases\n",
    "confirmed = germany.loc[germany['indicator'] == 'Reported confirmed cases'].copy()\n",
    "\n",
    "#Set time column as index\n",
    "confirmed.set_index('time', inplace=True)\n",
    "\n",
    "#Dropping columns that are not needed\n",
    "confirmed.drop(columns=['indicator'], inplace=True)"
   ]
  },
  {
   "cell_type": "markdown",
   "metadata": {},
   "source": [
    "##### Combining both data frames"
   ]
  },
  {
   "cell_type": "code",
   "execution_count": 10,
   "metadata": {},
   "outputs": [],
   "source": [
    "#Merging both dataframes on time\n",
    "df = reported.merge(confirmed, left_on='time', right_on='time')"
   ]
  },
  {
   "cell_type": "code",
   "execution_count": 11,
   "metadata": {},
   "outputs": [
    {
     "data": {
      "text/html": [
       "<div>\n",
       "<style scoped>\n",
       "    .dataframe tbody tr th:only-of-type {\n",
       "        vertical-align: middle;\n",
       "    }\n",
       "\n",
       "    .dataframe tbody tr th {\n",
       "        vertical-align: top;\n",
       "    }\n",
       "\n",
       "    .dataframe thead th {\n",
       "        text-align: right;\n",
       "    }\n",
       "</style>\n",
       "<table border=\"1\" class=\"dataframe\">\n",
       "  <thead>\n",
       "    <tr style=\"text-align: right;\">\n",
       "      <th></th>\n",
       "      <th>reported</th>\n",
       "      <th>confirmed</th>\n",
       "    </tr>\n",
       "    <tr>\n",
       "      <th>time</th>\n",
       "      <th></th>\n",
       "      <th></th>\n",
       "    </tr>\n",
       "  </thead>\n",
       "  <tbody>\n",
       "    <tr>\n",
       "      <th>2001-01-01</th>\n",
       "      <td>220.0</td>\n",
       "      <td>73.0</td>\n",
       "    </tr>\n",
       "    <tr>\n",
       "      <th>2001-02-01</th>\n",
       "      <td>425.0</td>\n",
       "      <td>134.0</td>\n",
       "    </tr>\n",
       "    <tr>\n",
       "      <th>2001-03-01</th>\n",
       "      <td>977.0</td>\n",
       "      <td>335.0</td>\n",
       "    </tr>\n",
       "    <tr>\n",
       "      <th>2001-04-01</th>\n",
       "      <td>1316.0</td>\n",
       "      <td>466.0</td>\n",
       "    </tr>\n",
       "    <tr>\n",
       "      <th>2001-05-01</th>\n",
       "      <td>1055.0</td>\n",
       "      <td>443.0</td>\n",
       "    </tr>\n",
       "  </tbody>\n",
       "</table>\n",
       "</div>"
      ],
      "text/plain": [
       "            reported  confirmed\n",
       "time                           \n",
       "2001-01-01     220.0       73.0\n",
       "2001-02-01     425.0      134.0\n",
       "2001-03-01     977.0      335.0\n",
       "2001-04-01    1316.0      466.0\n",
       "2001-05-01    1055.0      443.0"
      ]
     },
     "execution_count": 11,
     "metadata": {},
     "output_type": "execute_result"
    }
   ],
   "source": [
    "#Renaming columns \n",
    "df.rename(columns={'numvalue_x': 'reported', 'numvalue_y': 'confirmed'}, inplace=True)\n",
    "df.head()"
   ]
  },
  {
   "cell_type": "markdown",
   "metadata": {},
   "source": [
    "#### Vaccination records \n",
    "\n",
    "Vaccination records are in percentage of population. In order to use this data, we need to convert percentage into the number of people in Germany, who are vaccinated. This can be done by using the population from Germany over time as population increased from 2001 to 2018. Additionally, our vaccination records are yearly. We need to impute the monthly rate from our yearly rate to match the rest of our time line. "
   ]
  },
  {
   "cell_type": "markdown",
   "metadata": {},
   "source": [
    "##### Population in Germany \n",
    "Creating a data frame with population from Germany. The information of population was obtained by this [resource](https://data.worldbank.org/indicator/SP.POP.TOTL?locations=DE)."
   ]
  },
  {
   "cell_type": "code",
   "execution_count": 12,
   "metadata": {},
   "outputs": [],
   "source": [
    "#Population for Germany from 2001 to 2018 \n",
    "population = {'2001': 82349925, \n",
    "              '2002': 82488495, \n",
    "              '2003': 82534176, \n",
    "              '2004': 82516260, \n",
    "              '2005': 82469422, \n",
    "              '2006': 82376451, \n",
    "              '2007': 82266372, \n",
    "              '2008': 82110097, \n",
    "              '2009': 81902307,\n",
    "              '2010': 81776930,\n",
    "              '2011': 80274983,\n",
    "              '2012': 80425823,\n",
    "              '2013': 80645605, \n",
    "              '2014': 80982500,\n",
    "              '2015': 81686611, \n",
    "              '2016': 82348669,\n",
    "              '2017': 82657002, \n",
    "              '2018': 82927922}"
   ]
  },
  {
   "cell_type": "code",
   "execution_count": 13,
   "metadata": {},
   "outputs": [
    {
     "data": {
      "text/html": [
       "<div>\n",
       "<style scoped>\n",
       "    .dataframe tbody tr th:only-of-type {\n",
       "        vertical-align: middle;\n",
       "    }\n",
       "\n",
       "    .dataframe tbody tr th {\n",
       "        vertical-align: top;\n",
       "    }\n",
       "\n",
       "    .dataframe thead th {\n",
       "        text-align: right;\n",
       "    }\n",
       "</style>\n",
       "<table border=\"1\" class=\"dataframe\">\n",
       "  <thead>\n",
       "    <tr style=\"text-align: right;\">\n",
       "      <th></th>\n",
       "      <th>population</th>\n",
       "    </tr>\n",
       "    <tr>\n",
       "      <th>time</th>\n",
       "      <th></th>\n",
       "    </tr>\n",
       "  </thead>\n",
       "  <tbody>\n",
       "    <tr>\n",
       "      <th>2001-01-01</th>\n",
       "      <td>82349925</td>\n",
       "    </tr>\n",
       "    <tr>\n",
       "      <th>2002-01-01</th>\n",
       "      <td>82488495</td>\n",
       "    </tr>\n",
       "    <tr>\n",
       "      <th>2003-01-01</th>\n",
       "      <td>82534176</td>\n",
       "    </tr>\n",
       "    <tr>\n",
       "      <th>2004-01-01</th>\n",
       "      <td>82516260</td>\n",
       "    </tr>\n",
       "    <tr>\n",
       "      <th>2005-01-01</th>\n",
       "      <td>82469422</td>\n",
       "    </tr>\n",
       "  </tbody>\n",
       "</table>\n",
       "</div>"
      ],
      "text/plain": [
       "            population\n",
       "time                  \n",
       "2001-01-01    82349925\n",
       "2002-01-01    82488495\n",
       "2003-01-01    82534176\n",
       "2004-01-01    82516260\n",
       "2005-01-01    82469422"
      ]
     },
     "execution_count": 13,
     "metadata": {},
     "output_type": "execute_result"
    }
   ],
   "source": [
    "#Creating a data frame from dictionary \n",
    "germany_population = pd.DataFrame(list(population.items()), columns=['time', 'population'])\n",
    "\n",
    "#Changing time column to date time object \n",
    "germany_population['time'] = pd.to_datetime(germany_population['time'])\n",
    "\n",
    "#Resetting index column with time\n",
    "germany_population.set_index('time', inplace= True)\n",
    "germany_population.head()"
   ]
  },
  {
   "cell_type": "markdown",
   "metadata": {},
   "source": [
    "##### First Dosage of vaccination "
   ]
  },
  {
   "cell_type": "code",
   "execution_count": 14,
   "metadata": {},
   "outputs": [
    {
     "data": {
      "text/html": [
       "<div>\n",
       "<style scoped>\n",
       "    .dataframe tbody tr th:only-of-type {\n",
       "        vertical-align: middle;\n",
       "    }\n",
       "\n",
       "    .dataframe tbody tr th {\n",
       "        vertical-align: top;\n",
       "    }\n",
       "\n",
       "    .dataframe thead th {\n",
       "        text-align: right;\n",
       "    }\n",
       "</style>\n",
       "<table border=\"1\" class=\"dataframe\">\n",
       "  <thead>\n",
       "    <tr style=\"text-align: right;\">\n",
       "      <th></th>\n",
       "      <th>time</th>\n",
       "      <th>numvalue</th>\n",
       "    </tr>\n",
       "  </thead>\n",
       "  <tbody>\n",
       "    <tr>\n",
       "      <th>24721</th>\n",
       "      <td>1999-01-01</td>\n",
       "      <td>92.0</td>\n",
       "    </tr>\n",
       "    <tr>\n",
       "      <th>24751</th>\n",
       "      <td>2000-01-01</td>\n",
       "      <td>92.0</td>\n",
       "    </tr>\n",
       "    <tr>\n",
       "      <th>24781</th>\n",
       "      <td>2001-01-01</td>\n",
       "      <td>94.0</td>\n",
       "    </tr>\n",
       "    <tr>\n",
       "      <th>24811</th>\n",
       "      <td>2002-01-01</td>\n",
       "      <td>94.0</td>\n",
       "    </tr>\n",
       "    <tr>\n",
       "      <th>24841</th>\n",
       "      <td>2003-01-01</td>\n",
       "      <td>95.0</td>\n",
       "    </tr>\n",
       "  </tbody>\n",
       "</table>\n",
       "</div>"
      ],
      "text/plain": [
       "            time  numvalue\n",
       "24721 1999-01-01      92.0\n",
       "24751 2000-01-01      92.0\n",
       "24781 2001-01-01      94.0\n",
       "24811 2002-01-01      94.0\n",
       "24841 2003-01-01      95.0"
      ]
     },
     "execution_count": 14,
     "metadata": {},
     "output_type": "execute_result"
    }
   ],
   "source": [
    "#Filtering for first dose of vaccination records \n",
    "vac_1 = germany.loc[germany['indicator'] == 'Vaccination coverage first dose'].copy()\n",
    "\n",
    "#Dropping columns that is not needed anymore \n",
    "vac_1.drop(columns=['indicator'], inplace=True)\n",
    "vac_1.head()"
   ]
  },
  {
   "cell_type": "markdown",
   "metadata": {},
   "source": [
    "##### Second Dosage of vaccination "
   ]
  },
  {
   "cell_type": "code",
   "execution_count": 15,
   "metadata": {},
   "outputs": [
    {
     "data": {
      "text/html": [
       "<div>\n",
       "<style scoped>\n",
       "    .dataframe tbody tr th:only-of-type {\n",
       "        vertical-align: middle;\n",
       "    }\n",
       "\n",
       "    .dataframe tbody tr th {\n",
       "        vertical-align: top;\n",
       "    }\n",
       "\n",
       "    .dataframe thead th {\n",
       "        text-align: right;\n",
       "    }\n",
       "</style>\n",
       "<table border=\"1\" class=\"dataframe\">\n",
       "  <thead>\n",
       "    <tr style=\"text-align: right;\">\n",
       "      <th></th>\n",
       "      <th>time</th>\n",
       "      <th>numvalue</th>\n",
       "    </tr>\n",
       "  </thead>\n",
       "  <tbody>\n",
       "    <tr>\n",
       "      <th>25358</th>\n",
       "      <td>2002-01-01</td>\n",
       "      <td>77.0</td>\n",
       "    </tr>\n",
       "    <tr>\n",
       "      <th>25377</th>\n",
       "      <td>2003-01-01</td>\n",
       "      <td>83.0</td>\n",
       "    </tr>\n",
       "    <tr>\n",
       "      <th>25398</th>\n",
       "      <td>2004-01-01</td>\n",
       "      <td>89.0</td>\n",
       "    </tr>\n",
       "    <tr>\n",
       "      <th>25420</th>\n",
       "      <td>2005-01-01</td>\n",
       "      <td>91.0</td>\n",
       "    </tr>\n",
       "    <tr>\n",
       "      <th>25443</th>\n",
       "      <td>2006-01-01</td>\n",
       "      <td>90.0</td>\n",
       "    </tr>\n",
       "  </tbody>\n",
       "</table>\n",
       "</div>"
      ],
      "text/plain": [
       "            time  numvalue\n",
       "25358 2002-01-01      77.0\n",
       "25377 2003-01-01      83.0\n",
       "25398 2004-01-01      89.0\n",
       "25420 2005-01-01      91.0\n",
       "25443 2006-01-01      90.0"
      ]
     },
     "execution_count": 15,
     "metadata": {},
     "output_type": "execute_result"
    }
   ],
   "source": [
    "#Filtering for second dose of vaccination records \n",
    "vac_2 = germany.loc[germany['indicator'] == 'Vaccination coverage second dose'].copy()\n",
    "\n",
    "#Dropping columns that is not needed anymore \n",
    "vac_2.drop(columns=['indicator'], inplace=True)\n",
    "vac_2.head()"
   ]
  },
  {
   "cell_type": "markdown",
   "metadata": {},
   "source": [
    "Now that we have obtained data frames with first and second vaccination records we need to merge it with population data frame."
   ]
  },
  {
   "cell_type": "code",
   "execution_count": 16,
   "metadata": {},
   "outputs": [],
   "source": [
    "vac_1 = vac_1.merge(germany_population, left_on='time', right_on='time')\n",
    "vac_2 = vac_2.merge(germany_population, left_on='time', right_on='time')"
   ]
  },
  {
   "cell_type": "code",
   "execution_count": 17,
   "metadata": {},
   "outputs": [
    {
     "data": {
      "text/html": [
       "<div>\n",
       "<style scoped>\n",
       "    .dataframe tbody tr th:only-of-type {\n",
       "        vertical-align: middle;\n",
       "    }\n",
       "\n",
       "    .dataframe tbody tr th {\n",
       "        vertical-align: top;\n",
       "    }\n",
       "\n",
       "    .dataframe thead th {\n",
       "        text-align: right;\n",
       "    }\n",
       "</style>\n",
       "<table border=\"1\" class=\"dataframe\">\n",
       "  <thead>\n",
       "    <tr style=\"text-align: right;\">\n",
       "      <th></th>\n",
       "      <th>time</th>\n",
       "      <th>numvalue</th>\n",
       "      <th>population</th>\n",
       "    </tr>\n",
       "  </thead>\n",
       "  <tbody>\n",
       "    <tr>\n",
       "      <th>0</th>\n",
       "      <td>2001-01-01</td>\n",
       "      <td>94.0</td>\n",
       "      <td>82349925</td>\n",
       "    </tr>\n",
       "    <tr>\n",
       "      <th>1</th>\n",
       "      <td>2002-01-01</td>\n",
       "      <td>94.0</td>\n",
       "      <td>82488495</td>\n",
       "    </tr>\n",
       "    <tr>\n",
       "      <th>2</th>\n",
       "      <td>2003-01-01</td>\n",
       "      <td>95.0</td>\n",
       "      <td>82534176</td>\n",
       "    </tr>\n",
       "    <tr>\n",
       "      <th>3</th>\n",
       "      <td>2004-01-01</td>\n",
       "      <td>96.0</td>\n",
       "      <td>82516260</td>\n",
       "    </tr>\n",
       "    <tr>\n",
       "      <th>4</th>\n",
       "      <td>2005-01-01</td>\n",
       "      <td>96.0</td>\n",
       "      <td>82469422</td>\n",
       "    </tr>\n",
       "  </tbody>\n",
       "</table>\n",
       "</div>"
      ],
      "text/plain": [
       "        time  numvalue  population\n",
       "0 2001-01-01      94.0    82349925\n",
       "1 2002-01-01      94.0    82488495\n",
       "2 2003-01-01      95.0    82534176\n",
       "3 2004-01-01      96.0    82516260\n",
       "4 2005-01-01      96.0    82469422"
      ]
     },
     "execution_count": 17,
     "metadata": {},
     "output_type": "execute_result"
    }
   ],
   "source": [
    "#Checking work\n",
    "vac_1.head()"
   ]
  },
  {
   "cell_type": "markdown",
   "metadata": {},
   "source": [
    "##### Calculation of vaccination rate\n",
    "\n",
    "The amount of vaccinated population in Germany can be calculated by multiplying the percentage of first/second dosage by the population during that time and dividing by 100 to receive the correct unit. Additionally, we can use the information we already have to calculate th population, who are not vaccinated during that time. It's important to know that the second Measles Vaccination is crucial to establish Immunity. More information on Measles vaccination can found [here](https://www.cdc.gov/vaccines/vpd/mmr/public/index.html). The amount of people who are not vaccinated can be calculated using the population and second vaccination value."
   ]
  },
  {
   "cell_type": "code",
   "execution_count": 18,
   "metadata": {},
   "outputs": [
    {
     "data": {
      "text/html": [
       "<div>\n",
       "<style scoped>\n",
       "    .dataframe tbody tr th:only-of-type {\n",
       "        vertical-align: middle;\n",
       "    }\n",
       "\n",
       "    .dataframe tbody tr th {\n",
       "        vertical-align: top;\n",
       "    }\n",
       "\n",
       "    .dataframe thead th {\n",
       "        text-align: right;\n",
       "    }\n",
       "</style>\n",
       "<table border=\"1\" class=\"dataframe\">\n",
       "  <thead>\n",
       "    <tr style=\"text-align: right;\">\n",
       "      <th></th>\n",
       "      <th>time</th>\n",
       "      <th>vaccine_1</th>\n",
       "      <th>vaccine_2</th>\n",
       "      <th>not_vaccinated</th>\n",
       "    </tr>\n",
       "  </thead>\n",
       "  <tbody>\n",
       "    <tr>\n",
       "      <th>0</th>\n",
       "      <td>2001-01-01</td>\n",
       "      <td>77408929.50</td>\n",
       "      <td>NaN</td>\n",
       "      <td>NaN</td>\n",
       "    </tr>\n",
       "    <tr>\n",
       "      <th>1</th>\n",
       "      <td>2002-01-01</td>\n",
       "      <td>77539185.30</td>\n",
       "      <td>63516141.15</td>\n",
       "      <td>18972353.85</td>\n",
       "    </tr>\n",
       "    <tr>\n",
       "      <th>2</th>\n",
       "      <td>2003-01-01</td>\n",
       "      <td>78407467.20</td>\n",
       "      <td>68503366.08</td>\n",
       "      <td>14030809.92</td>\n",
       "    </tr>\n",
       "    <tr>\n",
       "      <th>3</th>\n",
       "      <td>2004-01-01</td>\n",
       "      <td>79215609.60</td>\n",
       "      <td>73439471.40</td>\n",
       "      <td>9076788.60</td>\n",
       "    </tr>\n",
       "    <tr>\n",
       "      <th>4</th>\n",
       "      <td>2005-01-01</td>\n",
       "      <td>79170645.12</td>\n",
       "      <td>75047174.02</td>\n",
       "      <td>7422247.98</td>\n",
       "    </tr>\n",
       "    <tr>\n",
       "      <th>5</th>\n",
       "      <td>2006-01-01</td>\n",
       "      <td>79081392.96</td>\n",
       "      <td>74138805.90</td>\n",
       "      <td>8237645.10</td>\n",
       "    </tr>\n",
       "    <tr>\n",
       "      <th>6</th>\n",
       "      <td>2007-01-01</td>\n",
       "      <td>79798380.84</td>\n",
       "      <td>75685062.24</td>\n",
       "      <td>6581309.76</td>\n",
       "    </tr>\n",
       "    <tr>\n",
       "      <th>7</th>\n",
       "      <td>2008-01-01</td>\n",
       "      <td>79646794.09</td>\n",
       "      <td>75541289.24</td>\n",
       "      <td>6568807.76</td>\n",
       "    </tr>\n",
       "    <tr>\n",
       "      <th>8</th>\n",
       "      <td>2009-01-01</td>\n",
       "      <td>79445237.79</td>\n",
       "      <td>76169145.51</td>\n",
       "      <td>5733161.49</td>\n",
       "    </tr>\n",
       "    <tr>\n",
       "      <th>9</th>\n",
       "      <td>2010-01-01</td>\n",
       "      <td>79323622.10</td>\n",
       "      <td>76052544.90</td>\n",
       "      <td>5724385.10</td>\n",
       "    </tr>\n",
       "    <tr>\n",
       "      <th>10</th>\n",
       "      <td>2011-01-01</td>\n",
       "      <td>77866733.51</td>\n",
       "      <td>74655734.19</td>\n",
       "      <td>5619248.81</td>\n",
       "    </tr>\n",
       "    <tr>\n",
       "      <th>11</th>\n",
       "      <td>2012-01-01</td>\n",
       "      <td>78013048.31</td>\n",
       "      <td>74796015.39</td>\n",
       "      <td>5629807.61</td>\n",
       "    </tr>\n",
       "    <tr>\n",
       "      <th>12</th>\n",
       "      <td>2013-01-01</td>\n",
       "      <td>78226236.85</td>\n",
       "      <td>75000412.65</td>\n",
       "      <td>5645192.35</td>\n",
       "    </tr>\n",
       "    <tr>\n",
       "      <th>13</th>\n",
       "      <td>2014-01-01</td>\n",
       "      <td>78553025.00</td>\n",
       "      <td>75313725.00</td>\n",
       "      <td>5668775.00</td>\n",
       "    </tr>\n",
       "    <tr>\n",
       "      <th>14</th>\n",
       "      <td>2015-01-01</td>\n",
       "      <td>79236012.67</td>\n",
       "      <td>75968548.23</td>\n",
       "      <td>5718062.77</td>\n",
       "    </tr>\n",
       "    <tr>\n",
       "      <th>15</th>\n",
       "      <td>2016-01-01</td>\n",
       "      <td>79878208.93</td>\n",
       "      <td>76584262.17</td>\n",
       "      <td>5764406.83</td>\n",
       "    </tr>\n",
       "    <tr>\n",
       "      <th>16</th>\n",
       "      <td>2017-01-01</td>\n",
       "      <td>80177291.94</td>\n",
       "      <td>76871011.86</td>\n",
       "      <td>5785990.14</td>\n",
       "    </tr>\n",
       "    <tr>\n",
       "      <th>17</th>\n",
       "      <td>2018-01-01</td>\n",
       "      <td>80440084.34</td>\n",
       "      <td>77122967.46</td>\n",
       "      <td>5804954.54</td>\n",
       "    </tr>\n",
       "  </tbody>\n",
       "</table>\n",
       "</div>"
      ],
      "text/plain": [
       "         time    vaccine_1    vaccine_2  not_vaccinated\n",
       "0  2001-01-01  77408929.50          NaN             NaN\n",
       "1  2002-01-01  77539185.30  63516141.15     18972353.85\n",
       "2  2003-01-01  78407467.20  68503366.08     14030809.92\n",
       "3  2004-01-01  79215609.60  73439471.40      9076788.60\n",
       "4  2005-01-01  79170645.12  75047174.02      7422247.98\n",
       "5  2006-01-01  79081392.96  74138805.90      8237645.10\n",
       "6  2007-01-01  79798380.84  75685062.24      6581309.76\n",
       "7  2008-01-01  79646794.09  75541289.24      6568807.76\n",
       "8  2009-01-01  79445237.79  76169145.51      5733161.49\n",
       "9  2010-01-01  79323622.10  76052544.90      5724385.10\n",
       "10 2011-01-01  77866733.51  74655734.19      5619248.81\n",
       "11 2012-01-01  78013048.31  74796015.39      5629807.61\n",
       "12 2013-01-01  78226236.85  75000412.65      5645192.35\n",
       "13 2014-01-01  78553025.00  75313725.00      5668775.00\n",
       "14 2015-01-01  79236012.67  75968548.23      5718062.77\n",
       "15 2016-01-01  79878208.93  76584262.17      5764406.83\n",
       "16 2017-01-01  80177291.94  76871011.86      5785990.14\n",
       "17 2018-01-01  80440084.34  77122967.46      5804954.54"
      ]
     },
     "execution_count": 18,
     "metadata": {},
     "output_type": "execute_result"
    }
   ],
   "source": [
    "#Calculating vaccination values \n",
    "vac_1['vaccine_1'] = vac_1['numvalue'] * vac_1['population'] / 100 \n",
    "vac_2['vaccine_2'] = vac_2['numvalue'] * vac_2['population'] / 100 \n",
    "\n",
    "#Calculating number of people who are not vaccinated from second vaccination coverage\n",
    "vac_2['not_vaccinated'] = vac_2['population'] - vac_2['vaccine_2'] \n",
    "\n",
    "#Combining first and second dosage data frame \n",
    "vaccine = vac_1.merge(vac_2, left_on='time', right_on='time', how='left')\n",
    "\n",
    "#Dropping columns that are not needed \n",
    "vaccine.drop(columns=['numvalue_x', 'numvalue_y', 'population_x', 'population_y'], inplace=True)\n",
    "vaccine.sort_values(by='time')"
   ]
  },
  {
   "cell_type": "markdown",
   "metadata": {},
   "source": [
    "**Observation:**\n",
    "\n",
    "The data is missing values for 2001 in second dosage vaccination rate. After further research trying to find the missing value, it can be concluded that Germany did not report the second dosage vaccination rate for that specific year. ([Resource](https://www.ecdc.europa.eu/en/measles/surveillance-and-disease-data/annual-surveillance-data))"
   ]
  },
  {
   "cell_type": "markdown",
   "metadata": {},
   "source": [
    "##### Monthly vaccination rate \n",
    "\n",
    "Our reported and confirmed outbreak cases are monthly, however, vaccination rate is yearly. We need to convert the vaccination rate from yearly into a monthly rate."
   ]
  },
  {
   "cell_type": "markdown",
   "metadata": {},
   "source": [
    "Creating a new data frame with Time range from 2001 to 2018"
   ]
  },
  {
   "cell_type": "code",
   "execution_count": 19,
   "metadata": {},
   "outputs": [
    {
     "data": {
      "text/html": [
       "<div>\n",
       "<style scoped>\n",
       "    .dataframe tbody tr th:only-of-type {\n",
       "        vertical-align: middle;\n",
       "    }\n",
       "\n",
       "    .dataframe tbody tr th {\n",
       "        vertical-align: top;\n",
       "    }\n",
       "\n",
       "    .dataframe thead th {\n",
       "        text-align: right;\n",
       "    }\n",
       "</style>\n",
       "<table border=\"1\" class=\"dataframe\">\n",
       "  <thead>\n",
       "    <tr style=\"text-align: right;\">\n",
       "      <th></th>\n",
       "      <th>vaccine_1</th>\n",
       "      <th>vaccine_2</th>\n",
       "      <th>not_vaccinated</th>\n",
       "    </tr>\n",
       "  </thead>\n",
       "  <tbody>\n",
       "    <tr>\n",
       "      <th>2001-01-01</th>\n",
       "      <td>NaN</td>\n",
       "      <td>NaN</td>\n",
       "      <td>NaN</td>\n",
       "    </tr>\n",
       "    <tr>\n",
       "      <th>2001-02-01</th>\n",
       "      <td>NaN</td>\n",
       "      <td>NaN</td>\n",
       "      <td>NaN</td>\n",
       "    </tr>\n",
       "    <tr>\n",
       "      <th>2001-03-01</th>\n",
       "      <td>NaN</td>\n",
       "      <td>NaN</td>\n",
       "      <td>NaN</td>\n",
       "    </tr>\n",
       "    <tr>\n",
       "      <th>2001-04-01</th>\n",
       "      <td>NaN</td>\n",
       "      <td>NaN</td>\n",
       "      <td>NaN</td>\n",
       "    </tr>\n",
       "    <tr>\n",
       "      <th>2001-05-01</th>\n",
       "      <td>NaN</td>\n",
       "      <td>NaN</td>\n",
       "      <td>NaN</td>\n",
       "    </tr>\n",
       "  </tbody>\n",
       "</table>\n",
       "</div>"
      ],
      "text/plain": [
       "            vaccine_1  vaccine_2  not_vaccinated\n",
       "2001-01-01        NaN        NaN             NaN\n",
       "2001-02-01        NaN        NaN             NaN\n",
       "2001-03-01        NaN        NaN             NaN\n",
       "2001-04-01        NaN        NaN             NaN\n",
       "2001-05-01        NaN        NaN             NaN"
      ]
     },
     "execution_count": 19,
     "metadata": {},
     "output_type": "execute_result"
    }
   ],
   "source": [
    "#Monthly date range from 2001 to 2018 \n",
    "time = pd.date_range(start='1/1/2001', end='12/1/2018', freq='MS')\n",
    "\n",
    "#Empty data frame \n",
    "vaccine_value = pd.DataFrame(index=time, data=vaccine, columns=['vaccine_1', 'vaccine_2', 'not_vaccinated'])\n",
    "vaccine_value.head()"
   ]
  },
  {
   "cell_type": "markdown",
   "metadata": {},
   "source": [
    "Using data frame `vaccine` with yearly records to impute values in the monthly records of vaccination in `vaccine_value`"
   ]
  },
  {
   "cell_type": "code",
   "execution_count": 20,
   "metadata": {},
   "outputs": [],
   "source": [
    "#Iterating through each row of vaccine(monthly)\n",
    "for index_1, time in enumerate(vaccine_value.index):\n",
    "    \n",
    "    #Iterating through each row of vaccine(yearly)\n",
    "    for index, time_2 in enumerate(vaccine['time']):\n",
    "        \n",
    "        #Comparing years \n",
    "        if time.year == time_2.year:\n",
    "            \n",
    "            #Imputing values from yearly to monthly \n",
    "            vaccine_value['vaccine_1'][index_1] = vaccine['vaccine_1'][index]\n",
    "            vaccine_value['vaccine_2'][index_1] = vaccine['vaccine_2'][index]\n",
    "            vaccine_value['not_vaccinated'][index_1] = vaccine['not_vaccinated'][index]"
   ]
  },
  {
   "cell_type": "code",
   "execution_count": 21,
   "metadata": {},
   "outputs": [
    {
     "data": {
      "text/html": [
       "<div>\n",
       "<style scoped>\n",
       "    .dataframe tbody tr th:only-of-type {\n",
       "        vertical-align: middle;\n",
       "    }\n",
       "\n",
       "    .dataframe tbody tr th {\n",
       "        vertical-align: top;\n",
       "    }\n",
       "\n",
       "    .dataframe thead th {\n",
       "        text-align: right;\n",
       "    }\n",
       "</style>\n",
       "<table border=\"1\" class=\"dataframe\">\n",
       "  <thead>\n",
       "    <tr style=\"text-align: right;\">\n",
       "      <th></th>\n",
       "      <th>vaccine_1</th>\n",
       "      <th>vaccine_2</th>\n",
       "      <th>not_vaccinated</th>\n",
       "    </tr>\n",
       "  </thead>\n",
       "  <tbody>\n",
       "    <tr>\n",
       "      <th>2001-01-01</th>\n",
       "      <td>77408929.5</td>\n",
       "      <td>NaN</td>\n",
       "      <td>NaN</td>\n",
       "    </tr>\n",
       "    <tr>\n",
       "      <th>2001-02-01</th>\n",
       "      <td>77408929.5</td>\n",
       "      <td>NaN</td>\n",
       "      <td>NaN</td>\n",
       "    </tr>\n",
       "    <tr>\n",
       "      <th>2001-03-01</th>\n",
       "      <td>77408929.5</td>\n",
       "      <td>NaN</td>\n",
       "      <td>NaN</td>\n",
       "    </tr>\n",
       "    <tr>\n",
       "      <th>2001-04-01</th>\n",
       "      <td>77408929.5</td>\n",
       "      <td>NaN</td>\n",
       "      <td>NaN</td>\n",
       "    </tr>\n",
       "    <tr>\n",
       "      <th>2001-05-01</th>\n",
       "      <td>77408929.5</td>\n",
       "      <td>NaN</td>\n",
       "      <td>NaN</td>\n",
       "    </tr>\n",
       "  </tbody>\n",
       "</table>\n",
       "</div>"
      ],
      "text/plain": [
       "             vaccine_1  vaccine_2  not_vaccinated\n",
       "2001-01-01  77408929.5        NaN             NaN\n",
       "2001-02-01  77408929.5        NaN             NaN\n",
       "2001-03-01  77408929.5        NaN             NaN\n",
       "2001-04-01  77408929.5        NaN             NaN\n",
       "2001-05-01  77408929.5        NaN             NaN"
      ]
     },
     "execution_count": 21,
     "metadata": {},
     "output_type": "execute_result"
    }
   ],
   "source": [
    "#Checking work\n",
    "vaccine_value.head()"
   ]
  },
  {
   "cell_type": "code",
   "execution_count": 22,
   "metadata": {},
   "outputs": [
    {
     "data": {
      "text/html": [
       "<div>\n",
       "<style scoped>\n",
       "    .dataframe tbody tr th:only-of-type {\n",
       "        vertical-align: middle;\n",
       "    }\n",
       "\n",
       "    .dataframe tbody tr th {\n",
       "        vertical-align: top;\n",
       "    }\n",
       "\n",
       "    .dataframe thead th {\n",
       "        text-align: right;\n",
       "    }\n",
       "</style>\n",
       "<table border=\"1\" class=\"dataframe\">\n",
       "  <thead>\n",
       "    <tr style=\"text-align: right;\">\n",
       "      <th></th>\n",
       "      <th>vaccine_1</th>\n",
       "      <th>vaccine_2</th>\n",
       "      <th>not_vaccinated</th>\n",
       "    </tr>\n",
       "  </thead>\n",
       "  <tbody>\n",
       "    <tr>\n",
       "      <th>2018-08-01</th>\n",
       "      <td>80440084.34</td>\n",
       "      <td>77122967.46</td>\n",
       "      <td>5804954.54</td>\n",
       "    </tr>\n",
       "    <tr>\n",
       "      <th>2018-09-01</th>\n",
       "      <td>80440084.34</td>\n",
       "      <td>77122967.46</td>\n",
       "      <td>5804954.54</td>\n",
       "    </tr>\n",
       "    <tr>\n",
       "      <th>2018-10-01</th>\n",
       "      <td>80440084.34</td>\n",
       "      <td>77122967.46</td>\n",
       "      <td>5804954.54</td>\n",
       "    </tr>\n",
       "    <tr>\n",
       "      <th>2018-11-01</th>\n",
       "      <td>80440084.34</td>\n",
       "      <td>77122967.46</td>\n",
       "      <td>5804954.54</td>\n",
       "    </tr>\n",
       "    <tr>\n",
       "      <th>2018-12-01</th>\n",
       "      <td>80440084.34</td>\n",
       "      <td>77122967.46</td>\n",
       "      <td>5804954.54</td>\n",
       "    </tr>\n",
       "  </tbody>\n",
       "</table>\n",
       "</div>"
      ],
      "text/plain": [
       "              vaccine_1    vaccine_2  not_vaccinated\n",
       "2018-08-01  80440084.34  77122967.46      5804954.54\n",
       "2018-09-01  80440084.34  77122967.46      5804954.54\n",
       "2018-10-01  80440084.34  77122967.46      5804954.54\n",
       "2018-11-01  80440084.34  77122967.46      5804954.54\n",
       "2018-12-01  80440084.34  77122967.46      5804954.54"
      ]
     },
     "execution_count": 22,
     "metadata": {},
     "output_type": "execute_result"
    }
   ],
   "source": [
    "#Checking work\n",
    "vaccine_value.tail()"
   ]
  },
  {
   "cell_type": "markdown",
   "metadata": {},
   "source": [
    "After obtaining the correct vaccination values, we are going to combine the cases and vaccination data frames together."
   ]
  },
  {
   "cell_type": "code",
   "execution_count": 23,
   "metadata": {},
   "outputs": [
    {
     "data": {
      "text/html": [
       "<div>\n",
       "<style scoped>\n",
       "    .dataframe tbody tr th:only-of-type {\n",
       "        vertical-align: middle;\n",
       "    }\n",
       "\n",
       "    .dataframe tbody tr th {\n",
       "        vertical-align: top;\n",
       "    }\n",
       "\n",
       "    .dataframe thead th {\n",
       "        text-align: right;\n",
       "    }\n",
       "</style>\n",
       "<table border=\"1\" class=\"dataframe\">\n",
       "  <thead>\n",
       "    <tr style=\"text-align: right;\">\n",
       "      <th></th>\n",
       "      <th>reported</th>\n",
       "      <th>confirmed</th>\n",
       "      <th>vaccine_1</th>\n",
       "      <th>vaccine_2</th>\n",
       "      <th>not_vaccinated</th>\n",
       "    </tr>\n",
       "    <tr>\n",
       "      <th>time</th>\n",
       "      <th></th>\n",
       "      <th></th>\n",
       "      <th></th>\n",
       "      <th></th>\n",
       "      <th></th>\n",
       "    </tr>\n",
       "  </thead>\n",
       "  <tbody>\n",
       "    <tr>\n",
       "      <th>2002-01-01</th>\n",
       "      <td>815.0</td>\n",
       "      <td>117.0</td>\n",
       "      <td>77539185.3</td>\n",
       "      <td>63516141.15</td>\n",
       "      <td>18972353.85</td>\n",
       "    </tr>\n",
       "    <tr>\n",
       "      <th>2002-02-01</th>\n",
       "      <td>994.0</td>\n",
       "      <td>125.0</td>\n",
       "      <td>77539185.3</td>\n",
       "      <td>63516141.15</td>\n",
       "      <td>18972353.85</td>\n",
       "    </tr>\n",
       "    <tr>\n",
       "      <th>2002-03-01</th>\n",
       "      <td>916.0</td>\n",
       "      <td>127.0</td>\n",
       "      <td>77539185.3</td>\n",
       "      <td>63516141.15</td>\n",
       "      <td>18972353.85</td>\n",
       "    </tr>\n",
       "    <tr>\n",
       "      <th>2002-04-01</th>\n",
       "      <td>585.0</td>\n",
       "      <td>137.0</td>\n",
       "      <td>77539185.3</td>\n",
       "      <td>63516141.15</td>\n",
       "      <td>18972353.85</td>\n",
       "    </tr>\n",
       "    <tr>\n",
       "      <th>2002-05-01</th>\n",
       "      <td>520.0</td>\n",
       "      <td>101.0</td>\n",
       "      <td>77539185.3</td>\n",
       "      <td>63516141.15</td>\n",
       "      <td>18972353.85</td>\n",
       "    </tr>\n",
       "  </tbody>\n",
       "</table>\n",
       "</div>"
      ],
      "text/plain": [
       "            reported  confirmed   vaccine_1    vaccine_2  not_vaccinated\n",
       "time                                                                    \n",
       "2002-01-01     815.0      117.0  77539185.3  63516141.15     18972353.85\n",
       "2002-02-01     994.0      125.0  77539185.3  63516141.15     18972353.85\n",
       "2002-03-01     916.0      127.0  77539185.3  63516141.15     18972353.85\n",
       "2002-04-01     585.0      137.0  77539185.3  63516141.15     18972353.85\n",
       "2002-05-01     520.0      101.0  77539185.3  63516141.15     18972353.85"
      ]
     },
     "execution_count": 23,
     "metadata": {},
     "output_type": "execute_result"
    }
   ],
   "source": [
    "#Joining outbreaks and vaccination data frames \n",
    "df = df.join(vaccine_value)\n",
    "\n",
    "#Dropping NaN's\n",
    "df.dropna(inplace=True)\n",
    "\n",
    "df.head()"
   ]
  },
  {
   "cell_type": "markdown",
   "metadata": {},
   "source": [
    "Plotting Measles cases and vaccination rate from Germany"
   ]
  },
  {
   "cell_type": "code",
   "execution_count": 213,
   "metadata": {},
   "outputs": [
    {
     "data": {
      "image/png": "[encoded data removed]",
      "text/plain": [
       "<Figure size 1440x576 with 2 Axes>"
      ]
     },
     "metadata": {
      "needs_background": "light"
     },
     "output_type": "display_data"
    }
   ],
   "source": [
    "#Creating subplots\n",
    "fig, axes = plt.subplots(1, 1, figsize=(20,8))\n",
    "\n",
    "#Plotting outbreaks\n",
    "axes.plot(df.index, df['confirmed'], label= 'Outbreaks', color='darkorange')\n",
    "\n",
    "#Setting labels, legend and sizes\n",
    "axes.set_ylabel('Number of cases', fontsize=12, labelpad = 15)\n",
    "axes.set_title(\"Mealses Outbreaks and Vaccination Coverage in Germany\", fontsize=25, pad=20)\n",
    "axes.set_xlabel('Time', fontsize=15, labelpad = 15)\n",
    "axes.set_ylim(-10,600)\n",
    "axes.tick_params(labelsize=15)\n",
    "\n",
    "#Instantiating a second axes that shares the same x-axis\n",
    "axes2 = axes.twinx()  \n",
    "\n",
    "#Plotting vaccination \n",
    "axes2.plot(df.index, df['vaccine_1'], label= 'First vaccination coverage', color='lightgreen', linestyle= '--')\n",
    "axes2.plot(df.index, df['vaccine_2'], label= 'Second vaccination coverage', color='darkgreen', linestyle= '--')\n",
    "\n",
    "#Setting labels, legend and sizes\n",
    "axes2.set_ylabel('Population in 10^7', fontsize=12, labelpad = 15)\n",
    "axes2.tick_params(labelsize=15)\n",
    "\n",
    "#Creating the legend\n",
    "fig.legend(labels=['Outbreaks', 'First vaccination coverage', 'Second vaccination coverage'],   \n",
    "           loc=\"right\",  \n",
    "           borderaxespad=5.5, \n",
    "           fontsize=14);"
   ]
  },
  {
   "cell_type": "markdown",
   "metadata": {},
   "source": [
    "**Observation**: \n",
    "\n",
    "Looking at the plot above we can see that there is a relationship between vaccination coverage and outbreaks. For instances in 2006,there was an outbreak in Germany and the Second vaccination coverage dropped. This can again be observed during the end of 2011. Using this information we are going to create a time series model with vaccination coverage o"
   ]
  },
  {
   "cell_type": "markdown",
   "metadata": {},
   "source": [
    "### ARIMA Model"
   ]
  },
  {
   "cell_type": "markdown",
   "metadata": {},
   "source": [
    "An ARIMA model stands for _AutoRegressive_, _Integrated_, _Moving Average_ models and is very useful and flexible model that can be used for most time series models.\n",
    "\n",
    "In order to fit an ARIMA model, we need to specify three parameters:\n",
    "- $p$, the autoregressive part \n",
    "- $d$, also known as the differencing parameter, which is our Integrated part \n",
    "- $q$, the moving average part\n",
    "\n",
    "Our target variable is confirmed reported cases from Germany"
   ]
  },
  {
   "cell_type": "code",
   "execution_count": 186,
   "metadata": {},
   "outputs": [
    {
     "data": {
      "text/html": [
       "<div>\n",
       "<style scoped>\n",
       "    .dataframe tbody tr th:only-of-type {\n",
       "        vertical-align: middle;\n",
       "    }\n",
       "\n",
       "    .dataframe tbody tr th {\n",
       "        vertical-align: top;\n",
       "    }\n",
       "\n",
       "    .dataframe thead th {\n",
       "        text-align: right;\n",
       "    }\n",
       "</style>\n",
       "<table border=\"1\" class=\"dataframe\">\n",
       "  <thead>\n",
       "    <tr style=\"text-align: right;\">\n",
       "      <th></th>\n",
       "      <th>confirmed</th>\n",
       "    </tr>\n",
       "    <tr>\n",
       "      <th>time</th>\n",
       "      <th></th>\n",
       "    </tr>\n",
       "  </thead>\n",
       "  <tbody>\n",
       "    <tr>\n",
       "      <th>2002-01-01</th>\n",
       "      <td>117.0</td>\n",
       "    </tr>\n",
       "    <tr>\n",
       "      <th>2002-02-01</th>\n",
       "      <td>125.0</td>\n",
       "    </tr>\n",
       "    <tr>\n",
       "      <th>2002-03-01</th>\n",
       "      <td>127.0</td>\n",
       "    </tr>\n",
       "    <tr>\n",
       "      <th>2002-04-01</th>\n",
       "      <td>137.0</td>\n",
       "    </tr>\n",
       "    <tr>\n",
       "      <th>2002-05-01</th>\n",
       "      <td>101.0</td>\n",
       "    </tr>\n",
       "  </tbody>\n",
       "</table>\n",
       "</div>"
      ],
      "text/plain": [
       "            confirmed\n",
       "time                 \n",
       "2002-01-01      117.0\n",
       "2002-02-01      125.0\n",
       "2002-03-01      127.0\n",
       "2002-04-01      137.0\n",
       "2002-05-01      101.0"
      ]
     },
     "execution_count": 186,
     "metadata": {},
     "output_type": "execute_result"
    }
   ],
   "source": [
    "df[['confirmed']].head()"
   ]
  },
  {
   "cell_type": "markdown",
   "metadata": {},
   "source": [
    "#### Differencing Parameter \n",
    "\n",
    "$d$, as already mentioned is the differencing parameter in ARIMA models and it controls how much we \"difference\" our time series by. Differencing our time series means that instead of fitting a model that predicts our time series $Y_t$ directly, we'll fit a model to $Y'_t$ or $Y''_t$. There is one assumption that is **required** for nearly every time series model, which is known as **stationarity**. Stationarity means that there are no systematic changes in our time series over time, which basically means that the mean stays the same (no trends) and the autocorrelation between $Y_t$ and $Y_{t-k}$ depends only on the size of our lag $k$. (There is no seasonality.)\n",
    "\n",
    "We can check for Stationarity with the Augmented Dickey-Fuller Test, which is a hypothesis test that tests for stationarity. Specifically, the tests follows: \n",
    "\n",
    "$$\n",
    "\\begin{eqnarray}\n",
    "&H_0:& \\text{not stationary} \\\\\n",
    "&H_A:& \\text{stationary}\n",
    "\\end{eqnarray}\n",
    "$$\n",
    "\n",
    "A small $p$-value would give us evidence to reject the null hypothesis, meaning we accept that our time series is stationary.\n",
    "\n"
   ]
  },
  {
   "cell_type": "code",
   "execution_count": 187,
   "metadata": {},
   "outputs": [],
   "source": [
    "# Code written by Joseph Nelson.\n",
    "def interpret_dftest(dftest):\n",
    "    dfoutput = pd.Series(dftest[0:2], index=['Test Statistic','p-value'])\n",
    "    return dfoutput"
   ]
  },
  {
   "cell_type": "code",
   "execution_count": 188,
   "metadata": {},
   "outputs": [
    {
     "data": {
      "text/plain": [
       "Test Statistic   -6.532269e+00\n",
       "p-value           9.802733e-09\n",
       "dtype: float64"
      ]
     },
     "execution_count": 188,
     "metadata": {},
     "output_type": "execute_result"
    }
   ],
   "source": [
    "#Checking for Stationarity\n",
    "interpret_dftest(adfuller(df['confirmed']))"
   ]
  },
  {
   "cell_type": "markdown",
   "metadata": {},
   "source": [
    "With a $p$ -value of well below 0.05, we can reject $H_0$  and thus accept that our data is already stationary."
   ]
  },
  {
   "cell_type": "markdown",
   "metadata": {},
   "source": [
    "#### Autoregressive Parameter \n",
    "\n",
    "The autoregressive piece (`AR`) of our ARIMA model is usually responsible for modeling the long-term trends in our time series and does not handle sudden shocks well. The autoregressive piece of our ARIMA model will learn regression coefficients on the features that are the previous $p$ values. \n",
    "- An $AR(p)$ piece includes $p$ prior values: $\\beta_0 + \\sum_{k=1}^p \\beta_kY_{t-k}$\n",
    "\n",
    "Using Autocorrelation plot an Partial autocorrelation plot the $p$ parameter can be determined"
   ]
  },
  {
   "cell_type": "code",
   "execution_count": 189,
   "metadata": {},
   "outputs": [
    {
     "data": {
      "image/png": "[encoded data removed]",
      "text/plain": [
       "<Figure size 432x288 with 1 Axes>"
      ]
     },
     "metadata": {
      "needs_background": "light"
     },
     "output_type": "display_data"
    }
   ],
   "source": [
    "#ACF plot with 30 lags\n",
    "plot_acf(df['confirmed'], lags=30);"
   ]
  },
  {
   "cell_type": "markdown",
   "metadata": {},
   "source": [
    "**Observation:**  \n",
    "Autocorrelation plot above shows that observations are highly correlated with one another. For this plot, 1 time lag apart has a correlation around 0.8. Observation outside the blue band mean that there **is** a significant correlation between $Y_t$ and $Y_{t-k}$ for lag $k$. \n",
    "Therefore, there is a statistically significant correlation between $Y_t$ and $Y_{t-k}$ for $k$ = 1, 2, 3, 23, 24"
   ]
  },
  {
   "cell_type": "code",
   "execution_count": 190,
   "metadata": {},
   "outputs": [
    {
     "data": {
      "image/png": "[encoded data removed]",
      "text/plain": [
       "<Figure size 432x288 with 1 Axes>"
      ]
     },
     "metadata": {
      "needs_background": "light"
     },
     "output_type": "display_data"
    }
   ],
   "source": [
    "#PACF plot with 30 lags\n",
    "plot_pacf(df['confirmed'], lags = 30);"
   ]
  },
  {
   "cell_type": "markdown",
   "metadata": {},
   "source": [
    "**Observation:** \n",
    "\n",
    "The partial autocorrelation plot above shows that observations are highly correlated with one another. However, the partial autocorrelation plot checks for the correlation between observations, conditioning on all lower-lag autocorrelations. That means that the partial autocorrelation between $Y_t$ and $Y_{t-2}$ is the correlation between $Y_t$ and $Y_{t-2}$ that has already taken into account the autocorrelation between $Y_t$ and $Y_{t-1}$. Like previously with ACF plot, the blue band indicates the 95% confidence interval for these correlations.\n",
    "\n",
    "Observations outside the blue band mean that there **is** a significant correlation between $Y_t$ and $Y_{t-k}$ for lag $k$ = 2, 22.\n",
    "\n",
    "If the PACF has a sharp cut-off and the lag-1 PACF value is positive,  we can choose $p$ to be the lag in the PACF before the cut-off.\n",
    "- Therefore, $p=1$ \n",
    "\n"
   ]
  },
  {
   "cell_type": "markdown",
   "metadata": {},
   "source": [
    "#### Moving Average Parameter\n",
    "\n",
    "In the moving average piece, we take **previous error terms** as inputs. They predict the next value based on deviations from previous predictions. The moving average piece does handle sudden, random shocks well and $q$ indicates the number of previous errors to incorporate.\n",
    "\n",
    "- An $MA(q)$ piece includes $q$ prior values: $\\mu + \\sum_{k=1}^q w_k\\varepsilon_{t-k}$\n",
    "\n",
    "We can determine $q$ based on ACF plot. \n",
    "\n",
    "> \"If the ACF has a sharp cut-off and the lag-1 ACF value is negative, start at lag 0, and move from left to right until you find the first non-significant value, then back up one and select that value of $q$. (By Aurelia Lyon from DSI-8 Seattle)\n",
    "\n",
    "The ACF plot does not have a sharp cut-off or the lag-1 ACF value is not negative, then we let our $q=0$."
   ]
  },
  {
   "cell_type": "markdown",
   "metadata": {},
   "source": [
    "Additionally, we can use our X-variables to forecast our y-variable. However, we should lag our $X$ variables by at least one time point. "
   ]
  },
  {
   "cell_type": "code",
   "execution_count": 191,
   "metadata": {},
   "outputs": [],
   "source": [
    "#Creating new columns with 1-lag \n",
    "df['reported_lag_1'] = df['reported'].shift(1)\n",
    "df['vaccine_1_lag_1'] = df['vaccine_1'].shift(1)\n",
    "df['vaccine_2_lag_1'] = df['vaccine_2'].shift(1)\n",
    "df['not_vaccinated_lag_1'] = df['not_vaccinated'].shift(1)"
   ]
  },
  {
   "cell_type": "code",
   "execution_count": 192,
   "metadata": {},
   "outputs": [
    {
     "data": {
      "text/html": [
       "<div>\n",
       "<style scoped>\n",
       "    .dataframe tbody tr th:only-of-type {\n",
       "        vertical-align: middle;\n",
       "    }\n",
       "\n",
       "    .dataframe tbody tr th {\n",
       "        vertical-align: top;\n",
       "    }\n",
       "\n",
       "    .dataframe thead th {\n",
       "        text-align: right;\n",
       "    }\n",
       "</style>\n",
       "<table border=\"1\" class=\"dataframe\">\n",
       "  <thead>\n",
       "    <tr style=\"text-align: right;\">\n",
       "      <th></th>\n",
       "      <th>reported</th>\n",
       "      <th>confirmed</th>\n",
       "      <th>vaccine_1</th>\n",
       "      <th>vaccine_2</th>\n",
       "      <th>not_vaccinated</th>\n",
       "      <th>reported_lag_1</th>\n",
       "      <th>vaccine_1_lag_1</th>\n",
       "      <th>vaccine_2_lag_1</th>\n",
       "      <th>not_vaccinated_lag_1</th>\n",
       "    </tr>\n",
       "    <tr>\n",
       "      <th>time</th>\n",
       "      <th></th>\n",
       "      <th></th>\n",
       "      <th></th>\n",
       "      <th></th>\n",
       "      <th></th>\n",
       "      <th></th>\n",
       "      <th></th>\n",
       "      <th></th>\n",
       "      <th></th>\n",
       "    </tr>\n",
       "  </thead>\n",
       "  <tbody>\n",
       "    <tr>\n",
       "      <th>2002-01-01</th>\n",
       "      <td>815.0</td>\n",
       "      <td>117.0</td>\n",
       "      <td>77539185.3</td>\n",
       "      <td>63516141.15</td>\n",
       "      <td>18972353.85</td>\n",
       "      <td>NaN</td>\n",
       "      <td>NaN</td>\n",
       "      <td>NaN</td>\n",
       "      <td>NaN</td>\n",
       "    </tr>\n",
       "    <tr>\n",
       "      <th>2002-02-01</th>\n",
       "      <td>994.0</td>\n",
       "      <td>125.0</td>\n",
       "      <td>77539185.3</td>\n",
       "      <td>63516141.15</td>\n",
       "      <td>18972353.85</td>\n",
       "      <td>815.0</td>\n",
       "      <td>77539185.3</td>\n",
       "      <td>63516141.15</td>\n",
       "      <td>18972353.85</td>\n",
       "    </tr>\n",
       "    <tr>\n",
       "      <th>2002-03-01</th>\n",
       "      <td>916.0</td>\n",
       "      <td>127.0</td>\n",
       "      <td>77539185.3</td>\n",
       "      <td>63516141.15</td>\n",
       "      <td>18972353.85</td>\n",
       "      <td>994.0</td>\n",
       "      <td>77539185.3</td>\n",
       "      <td>63516141.15</td>\n",
       "      <td>18972353.85</td>\n",
       "    </tr>\n",
       "    <tr>\n",
       "      <th>2002-04-01</th>\n",
       "      <td>585.0</td>\n",
       "      <td>137.0</td>\n",
       "      <td>77539185.3</td>\n",
       "      <td>63516141.15</td>\n",
       "      <td>18972353.85</td>\n",
       "      <td>916.0</td>\n",
       "      <td>77539185.3</td>\n",
       "      <td>63516141.15</td>\n",
       "      <td>18972353.85</td>\n",
       "    </tr>\n",
       "    <tr>\n",
       "      <th>2002-05-01</th>\n",
       "      <td>520.0</td>\n",
       "      <td>101.0</td>\n",
       "      <td>77539185.3</td>\n",
       "      <td>63516141.15</td>\n",
       "      <td>18972353.85</td>\n",
       "      <td>585.0</td>\n",
       "      <td>77539185.3</td>\n",
       "      <td>63516141.15</td>\n",
       "      <td>18972353.85</td>\n",
       "    </tr>\n",
       "  </tbody>\n",
       "</table>\n",
       "</div>"
      ],
      "text/plain": [
       "            reported  confirmed   vaccine_1    vaccine_2  not_vaccinated  \\\n",
       "time                                                                       \n",
       "2002-01-01     815.0      117.0  77539185.3  63516141.15     18972353.85   \n",
       "2002-02-01     994.0      125.0  77539185.3  63516141.15     18972353.85   \n",
       "2002-03-01     916.0      127.0  77539185.3  63516141.15     18972353.85   \n",
       "2002-04-01     585.0      137.0  77539185.3  63516141.15     18972353.85   \n",
       "2002-05-01     520.0      101.0  77539185.3  63516141.15     18972353.85   \n",
       "\n",
       "            reported_lag_1  vaccine_1_lag_1  vaccine_2_lag_1  \\\n",
       "time                                                           \n",
       "2002-01-01             NaN              NaN              NaN   \n",
       "2002-02-01           815.0       77539185.3      63516141.15   \n",
       "2002-03-01           994.0       77539185.3      63516141.15   \n",
       "2002-04-01           916.0       77539185.3      63516141.15   \n",
       "2002-05-01           585.0       77539185.3      63516141.15   \n",
       "\n",
       "            not_vaccinated_lag_1  \n",
       "time                              \n",
       "2002-01-01                   NaN  \n",
       "2002-02-01           18972353.85  \n",
       "2002-03-01           18972353.85  \n",
       "2002-04-01           18972353.85  \n",
       "2002-05-01           18972353.85  "
      ]
     },
     "execution_count": 192,
     "metadata": {},
     "output_type": "execute_result"
    }
   ],
   "source": [
    "df.head()"
   ]
  },
  {
   "cell_type": "code",
   "execution_count": 193,
   "metadata": {},
   "outputs": [],
   "source": [
    "features = ['not_vaccinated_lag_1', 'vaccine_1_lag_1', 'vaccine_2_lag_1']\n",
    "X = df[features]\n",
    "y = df['confirmed']"
   ]
  },
  {
   "cell_type": "code",
   "execution_count": 194,
   "metadata": {},
   "outputs": [],
   "source": [
    "# Create train-test split.\n",
    "X_train, X_test, y_train, y_test = train_test_split(X,\n",
    "                                                    y,\n",
    "                                                    test_size = 0.3,\n",
    "                                                    shuffle = False,\n",
    "                                                    random_state=123) "
   ]
  },
  {
   "cell_type": "code",
   "execution_count": 195,
   "metadata": {},
   "outputs": [
    {
     "name": "stdout",
     "output_type": "stream",
     "text": [
      " y_train shape = (142,)\n",
      " y_test shape = (62,)\n",
      " Time from y_test starts with 2013-11-01 till 2018-12-01\n"
     ]
    }
   ],
   "source": [
    "print(f\" y_train shape = {y_train.shape}\")\n",
    "print(f\" y_test shape = {y_test.shape}\")\n",
    "print(f\" Time from y_test starts with {y_test.index[0].date()} till {y_test.index[-1].date()}\")\n"
   ]
  },
  {
   "cell_type": "code",
   "execution_count": 196,
   "metadata": {},
   "outputs": [
    {
     "name": "stderr",
     "output_type": "stream",
     "text": [
      "/Users/preeya/opt/anaconda3/envs/dsi/lib/python3.7/site-packages/statsmodels/tsa/base/tsa_model.py:165: ValueWarning: No frequency information was provided, so inferred frequency MS will be used.\n",
      "  % freq, ValueWarning)\n"
     ]
    }
   ],
   "source": [
    "#Instantiating ARIMA model.\n",
    "model = ARIMA(endog = y_train.astype(float).dropna(),\n",
    "                      #(p, d, q)\n",
    "              order = (1, 0 ,0) ) \n",
    "#Fitting model.\n",
    "arima_1_0_0 = model.fit() \n",
    "\n",
    "#Generateing predictions.\n",
    "preds = model.predict(params = arima_1_0_0.params,\n",
    "                      start =  datetime(2013,11,1),\n",
    "                      end =    datetime(2018,12,1))"
   ]
  },
  {
   "cell_type": "markdown",
   "metadata": {},
   "source": [
    "Function to plot predictions"
   ]
  },
  {
   "cell_type": "code",
   "execution_count": 216,
   "metadata": {},
   "outputs": [],
   "source": [
    "def plotting_predictions(y_train, y_test, preds, title = None, title_size = 24, ticks_size = 15, legend_size = 15):\n",
    "\n",
    "    #Plotting data.\n",
    "    plt.figure(figsize=(19,9))\n",
    "\n",
    "    #Plotting training data.\n",
    "    plt.plot(y_train, color = 'blue', label= 'Training set')\n",
    "\n",
    "    #Plotting testing data.\n",
    "    plt.plot(y_test, color = 'orange', label = 'Testing set')\n",
    "\n",
    "    #Plotting predicted test values.\n",
    "    plt.plot(y_test.index, preds, color = 'red', label = 'Predictions')\n",
    "\n",
    "    #Setting label, ticksmarks and legend\n",
    "    plt.title(label = title, fontsize=title_size, pad=15)\n",
    "    plt.tick_params(labelsize=ticks_size)\n",
    "    plt.legend(fontsize=legend_size )\n",
    "    plt.xlabel(\"Time\", fontsize=17, labelpad = 15)\n",
    "    plt.ylabel(\"Number of Outbreaks\", fontsize=17, labelpad = 15)\n",
    "\n",
    "    #Evaluating these predictions using MSE.\n",
    "    print(f\"Mean Squared Error = {mean_squared_error(y_test,preds)}\");"
   ]
  },
  {
   "cell_type": "code",
   "execution_count": 217,
   "metadata": {},
   "outputs": [
    {
     "name": "stdout",
     "output_type": "stream",
     "text": [
      "Mean Squared Error = 5588.0569445194305\n"
     ]
    },
    {
     "data": {
      "image/png": "[encoded data removed]",
      "text/plain": [
       "<Figure size 1368x648 with 1 Axes>"
      ]
     },
     "metadata": {
      "needs_background": "light"
     },
     "output_type": "display_data"
    }
   ],
   "source": [
    "#Plotting ARIMA 1_0_0 Model \n",
    "plotting_predictions(y_train, y_test, preds, \"ARIMA 1_0_0 Model\")"
   ]
  },
  {
   "cell_type": "markdown",
   "metadata": {},
   "source": [
    "**Observation**: As we can see using just an ARIMA model is not great for our predictions. The predictions came out almost as a straight-line with a Mean Square Error of 5782. We want to minimize our Mean Square Error as much as possible, therefore we can continue with fitting a seasonal ARIMA (SARIMA) model to our data. This way we can include seasonal components that will allow us to also account for seasonality that occurs over time."
   ]
  },
  {
   "cell_type": "markdown",
   "metadata": {},
   "source": [
    "### SARIMAX Model\n",
    "SARIMAX model stands for \"Seasonal Autoregressive Integrated Moving Average with eXogenous regressors model\" and is given by $ARIMA(p, d, q) × (P, D, Q, S)$ and $X$ for eXogenous Predictors , where:\n",
    "\n",
    "- $ARIMA(p, d, q)$ is the ARIMA model \n",
    "- $(P, D, Q, S)$ refers to the seasonal AR order $P$, the seasonal MA order $Q$, the seasonal differencing order $D$, and the length of the season $S$.\n",
    "- $X$ for our X-variables in our data"
   ]
  },
  {
   "cell_type": "markdown",
   "metadata": {},
   "source": [
    "First we are going to create a SARIMA model without any X-variables"
   ]
  },
  {
   "cell_type": "code",
   "execution_count": 218,
   "metadata": {},
   "outputs": [
    {
     "name": "stderr",
     "output_type": "stream",
     "text": [
      "/Users/preeya/opt/anaconda3/envs/dsi/lib/python3.7/site-packages/statsmodels/tsa/base/tsa_model.py:165: ValueWarning: No frequency information was provided, so inferred frequency MS will be used.\n",
      "  % freq, ValueWarning)\n"
     ]
    }
   ],
   "source": [
    "#Instantiating a SARIMA(1, 0, 1) x (1, 0, 0, 12) model.\n",
    "sarima = SARIMAX(endog = y_train,\n",
    "                 order = (1, 0, 1),              # (p, d, q)\n",
    "                 seasonal_order = (1, 0, 0, 12)) # (P, D, Q, S)\n",
    "\n",
    "#Fitting SARIMA model.\n",
    "model = sarima.fit()\n",
    "\n",
    "#Generating predictions based on test set.\n",
    "preds = model.predict(start=datetime(2013,11,1),\n",
    "                      end=datetime(2018,12,1))"
   ]
  },
  {
   "cell_type": "code",
   "execution_count": 219,
   "metadata": {},
   "outputs": [
    {
     "name": "stdout",
     "output_type": "stream",
     "text": [
      "Mean Squared Error = 7923.643074268617\n"
     ]
    },
    {
     "data": {
      "image/png": "[encoded data removed]",
      "text/plain": [
       "<Figure size 1368x648 with 1 Axes>"
      ]
     },
     "metadata": {
      "needs_background": "light"
     },
     "output_type": "display_data"
    }
   ],
   "source": [
    "plotting_predictions(y_train, y_test, preds, title= \"SARIMA(1, 0, 1) x (1, 0, 0, 12) model\")\n",
    "\n",
    "#Save plot\n",
    "plt.savefig('../images/modeling/SARIMA_model.jpeg', pad_inches='tight', optimiza=True);"
   ]
  },
  {
   "cell_type": "markdown",
   "metadata": {},
   "source": [
    "**Observation:** \n",
    "\n",
    "As we can see in our predictions plot that the SARIMA(1, 0, 1) x (1, 0, 0, 12) model did better than our initial model. However, the Mean Square Error increases to almost 8000, which is higher than it was before. Our model was not able to capture the trends and seasonality in our predictions. Next, we can include our X-variables in our next model. In order to find the best parameters with our SARIMAX model we need to do a GridSearch process in order to find the best parameter for our data. This following code block was used to find the best parameter with minimum Mean Square Error. The manual GridSearch takes a lot of time to run, therefore the code block is being omitted."
   ]
  },
  {
   "cell_type": "markdown",
   "metadata": {},
   "source": [
    "```python \n",
    "#Credit to Matt Brems. Code was slightly modified for this model\n",
    "\n",
    "# Starting MSE and (P, D, Q, S).\n",
    "best_mse = 99 * (10 ** 16)\n",
    "final_P = 0\n",
    "final_D = 0\n",
    "final_Q = 0\n",
    "final_S = 0\n",
    "\n",
    "for P in range(3):\n",
    "    for Q in range(3):\n",
    "        for D in range(3):\n",
    "            for S in range(0,13,4):\n",
    "                try:\n",
    "                    print(f'Attempting to fit SARIMAX(1,0,0)x({P},{D},{Q},{S})')\n",
    "                    # Instantiate SARIMAX model.\n",
    "                    sarimax = SARIMAX(endog = y_train[1:],\n",
    "                                     order = (1, 0, 0),              # (p, d, q)\n",
    "                                     seasonal_order = (P, D, Q, S),  # (P, D, Q, S)\n",
    "                                     exog = X_train.dropna()) \n",
    " \n",
    "                    # Fit SARIMAX model.\n",
    "                    model = sarimax.fit()\n",
    "\n",
    "                    # Generate predictions based on test set.\n",
    "                    preds = model.predict(start=datetime(2013,11,1),\n",
    "                                          end=  datetime(2018,12,1),\n",
    "                                          exog=X_test.dropna())\n",
    "\n",
    "                    # Evaluate predictions.\n",
    "                    print(f'The MSE for (1, 0, 1)x({P},{D},{Q},{S}) is: {mean_squared_error(y_test, preds)}')\n",
    "\n",
    "                    # Save for final report.\n",
    "                    if best_mse > mean_squared_error(y_test, preds):\n",
    "                        best_mse = mean_squared_error(y_test, preds)\n",
    "                        final_P = P\n",
    "                        final_D = D\n",
    "                        final_Q = Q\n",
    "                        final_S = S\n",
    "\n",
    "                except:\n",
    "                    pass\n",
    "\n",
    "print(f'Our model that minimizes MSE on the testing data is the SARIMAX(1, 0, 0)x({final_P},{final_D},{final_Q},{final_S}).')\n",
    "print(f'This model has an MSE of {best_mse}.')\n",
    "```"
   ]
  },
  {
   "cell_type": "markdown",
   "metadata": {},
   "source": [
    "Our results from the manual Gridsearch resulted in a SARIMAX(1, 0, 0) x (2, 0, 1, 12) model, which we are going to instantiate."
   ]
  },
  {
   "cell_type": "code",
   "execution_count": 220,
   "metadata": {},
   "outputs": [
    {
     "name": "stderr",
     "output_type": "stream",
     "text": [
      "/Users/preeya/opt/anaconda3/envs/dsi/lib/python3.7/site-packages/statsmodels/tsa/base/tsa_model.py:165: ValueWarning: No frequency information was provided, so inferred frequency MS will be used.\n",
      "  % freq, ValueWarning)\n",
      "/Users/preeya/opt/anaconda3/envs/dsi/lib/python3.7/site-packages/statsmodels/base/model.py:512: ConvergenceWarning: Maximum Likelihood optimization failed to converge. Check mle_retvals\n",
      "  \"Check mle_retvals\", ConvergenceWarning)\n"
     ]
    }
   ],
   "source": [
    "#Instantiating a SARIMAX(1, 0, 0) x (1, 0, 2, 12) model.\n",
    "sarima = SARIMAX(endog = y_train[1:],\n",
    "                 order = (1, 0, 0),              # (p, d, q)\n",
    "                 seasonal_order = (2, 0, 1, 12), # (P, D, Q, S)\n",
    "                 exog = X_train.dropna()) \n",
    "\n",
    "# Fit SARIMAX model.\n",
    "model = sarima.fit()\n",
    "\n",
    "# Generate predictions based on test set.\n",
    "preds = model.predict(start=datetime(2013,11,1),\n",
    "                      end=datetime(2018,12,1),\n",
    "                      exog=X_test.dropna())"
   ]
  },
  {
   "cell_type": "code",
   "execution_count": 221,
   "metadata": {},
   "outputs": [
    {
     "name": "stdout",
     "output_type": "stream",
     "text": [
      "Mean Squared Error = 5588.0569445194305\n"
     ]
    },
    {
     "data": {
      "image/png": "[encoded data removed]",
      "text/plain": [
       "<Figure size 1368x648 with 1 Axes>"
      ]
     },
     "metadata": {
      "needs_background": "light"
     },
     "output_type": "display_data"
    }
   ],
   "source": [
    "plotting_predictions(y_train, y_test, preds, title= \"SARIMAX(1, 0, 0) x (2, 0, 1, 12) model\")\n",
    "\n",
    "#Save plot\n",
    "plt.savefig('../images/modeling/SARIMAX_model.jpeg', pad_inches='tight', optimiza=True);"
   ]
  },
  {
   "cell_type": "markdown",
   "metadata": {},
   "source": [
    "**Observation**: \n",
    "\n",
    "This model \n"
   ]
  },
  {
   "cell_type": "markdown",
   "metadata": {},
   "source": [
    "### Evaluation "
   ]
  },
  {
   "cell_type": "code",
   "execution_count": null,
   "metadata": {},
   "outputs": [],
   "source": []
  }
 ],
 "metadata": {
  "kernelspec": {
   "display_name": "Python 3",
   "language": "python",
   "name": "python3"
  },
  "language_info": {
   "codemirror_mode": {
    "name": "ipython",
    "version": 3
   },
   "file_extension": ".py",
   "mimetype": "text/x-python",
   "name": "python",
   "nbconvert_exporter": "python",
   "pygments_lexer": "ipython3",
   "version": "3.7.3"
  },
  "toc-autonumbering": false,
  "toc-showcode": false,
  "toc-showtags": false,
  "widgets": {
   "application/vnd.jupyter.widget-state+json": {
    "state": {},
    "version_major": 2,
    "version_minor": 0
   }
  }
 },
 "nbformat": 4,
 "nbformat_minor": 4
}
